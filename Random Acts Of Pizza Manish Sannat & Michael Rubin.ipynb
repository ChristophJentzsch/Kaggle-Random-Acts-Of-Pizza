{
 "cells": [
  {
   "cell_type": "code",
   "execution_count": 1,
   "metadata": {
    "collapsed": false
   },
   "outputs": [
    {
     "name": "stderr",
     "output_type": "stream",
     "text": [
      "/Users/Home/anaconda/envs/py27/lib/python2.7/site-packages/matplotlib/font_manager.py:273: UserWarning: Matplotlib is building the font cache using fc-list. This may take a moment.\n",
      "  warnings.warn('Matplotlib is building the font cache using fc-list. This may take a moment.')\n",
      "/Users/Home/envs/tensorflow/lib/python2.7/site-packages/sklearn/cross_validation.py:44: DeprecationWarning: This module was deprecated in version 0.18 in favor of the model_selection module into which all the refactored classes and functions are moved. Also note that the interface of the new CV iterators are different from that of this module. This module will be removed in 0.20.\n",
      "  \"This module will be removed in 0.20.\", DeprecationWarning)\n",
      "/Users/Home/envs/tensorflow/lib/python2.7/site-packages/sklearn/grid_search.py:43: DeprecationWarning: This module was deprecated in version 0.18 in favor of the model_selection module into which all the refactored classes and functions are moved. This module will be removed in 0.20.\n",
      "  DeprecationWarning)\n"
     ]
    },
    {
     "name": "stdout",
     "output_type": "stream",
     "text": [
      "Couldn't import dot_parser, loading of dot files will not be possible.\n",
      "theano device: cpu\n",
      "theano floatX: float64\n"
     ]
    }
   ],
   "source": [
    "%matplotlib inline\n",
    "\n",
    "import re\n",
    "import time\n",
    "import datetime\n",
    "from collections import defaultdict\n",
    "import itertools\n",
    "\n",
    "import nltk\n",
    "\n",
    "import numpy as np\n",
    "import matplotlib.pyplot as plt\n",
    "import pandas as pd\n",
    "\n",
    "from sklearn.utils import shuffle\n",
    "from sklearn.naive_bayes import BernoulliNB\n",
    "from sklearn.neighbors import KNeighborsClassifier\n",
    "from sklearn import metrics\n",
    "from sklearn.feature_extraction.text import *\n",
    "from sklearn.decomposition import PCA\n",
    "from sklearn.linear_model import LogisticRegression\n",
    "from sklearn import preprocessing\n",
    "from sklearn.grid_search import GridSearchCV\n",
    "from sklearn.cross_validation import StratifiedKFold, KFold\n",
    "from sklearn.decomposition import LatentDirichletAllocation\n",
    "from sklearn.ensemble import GradientBoostingClassifier\n",
    "from sklearn.ensemble import RandomForestClassifier\n",
    "from sklearn.ensemble import ExtraTreesClassifier\n",
    "from sklearn.ensemble import BaggingClassifier\n",
    "from sklearn.tree import DecisionTreeClassifier\n",
    "from sklearn.ensemble import RandomForestClassifier\n",
    "from sklearn.ensemble import VotingClassifier\n",
    "from sklearn.svm import SVC\n",
    "from sklearn.metrics import accuracy_score\n",
    "from sklearn.ensemble import AdaBoostClassifier\n",
    "\n",
    "from sklearn.metrics import roc_curve\n",
    "from sklearn.metrics import roc_auc_score\n",
    "\n",
    "import seaborn as sns; sns.set()\n",
    "\n",
    "import statsmodels.api as sm\n",
    "\n",
    "import theano \n",
    "from theano import tensor as T\n",
    "from theano.sandbox.rng_mrg import MRG_RandomStreams as RandomStreams\n",
    "\n",
    "THEANO_FLAGS='cxx=\"\"'\n",
    "\n",
    "print 'theano device: %s' % theano.config.device   # we're using CPUs\n",
    "print 'theano floatX: %s' % theano.config.floatX   # should be 64 bit for CPUs"
   ]
  },
  {
   "cell_type": "code",
   "execution_count": 2,
   "metadata": {
    "collapsed": false
   },
   "outputs": [],
   "source": [
    "global start_time\n",
    "global function_start_time\n",
    "global classifierInfo_list\n",
    "global y_pred_rf\n",
    "\n",
    "start_time = time.time()\n",
    "function_start_time = time.time()\n",
    "\n",
    "'''\n",
    "Objects\n",
    "'''\n",
    "# object for encapsulating classifier and related data\n",
    "class classifierInfo(object):\n",
    "    def __init__(self, classifier, accuracy_score):\n",
    "        self.classifier = classifier\n",
    "        self.classifier_name = classifier.__class__.__name__\n",
    "        self.accuracy_score = accuracy_score\n",
    "        self.note = ''\n",
    "    def __str__(self):\n",
    "        return 'classifierInfo name: \"%s\", accuracy_score: %f' % (self.classifier_name, self.accuracy_score)\n",
    "\n",
    "'''\n",
    "Utility functions\n",
    "'''\n",
    "def printElapsedTime(note):\n",
    "    secs = time.time()-function_start_time\n",
    "    mins = np.int(secs/60)\n",
    "    secs = secs % 60.0\n",
    "    print_string = '\\nElapsed time ({}): {:d}:{:06.3f}'.format( note, mins, secs)\n",
    "    secs = time.time()-start_time\n",
    "    mins = np.int(secs/60)\n",
    "    secs = secs % 60.0\n",
    "    print_string += '\\nTotal elapsed time: {:d}:{:06.3f}'.format( mins, secs)\n",
    "    print print_string\n",
    "\n",
    "\n",
    "def printElapsedTimeReport(function_name):\n",
    "    secs = time.time()-start_time\n",
    "    mins = np.int(secs/60)\n",
    "    secs = secs % 60.0\n",
    "    formatted_time = '{:d}:{:06.3f}'.format( mins, secs)\n",
    "    print '{:<35}{:>10}'.format(function_name, formatted_time)\n",
    "\n",
    "# print the list of coolumns in a dataframe\n",
    "def printDataframeColumns(df):\n",
    "    cols = df.columns.values.tolist()\n",
    "    print \"\\ncol name\\n--- --------------------------------------------\"\n",
    "    for i in range(len(cols)):\n",
    "        print '%3d \\\"%s\\\"' % ( i, cols[i] )\n",
    "        \n",
    "# method to print topics\n",
    "def print_topics(topics, feature_names, sorting, topics_per_chunk=5, n_words=20):\n",
    "    for i in range(0, len(topics), topics_per_chunk):\n",
    "        # for each chunk:\n",
    "        these_topics = topics[i: i + topics_per_chunk]\n",
    "        # maybe we have less than topics_per_chunk left\n",
    "        len_this_chunk = len(these_topics)\n",
    "        # print topic headers\n",
    "        print((\"topic {:<8}\" * len_this_chunk).format(*these_topics))\n",
    "        print((\"-------- {0:<5}\" * len_this_chunk).format(\"\"))\n",
    "        # print top n_words frequent words\n",
    "        for j in range(n_words):\n",
    "            try:\n",
    "                print((\"{:<14}\" * len_this_chunk).format(*feature_names[sorting[these_topics, j]]))\n",
    "            except:\n",
    "                pass\n",
    "        print(\"\\n\")\n",
    "\n",
    "# fucntion to report the contents of the classifierInfo_list list\n",
    "def classifierReport(title):\n",
    "    sorted_classifierInfo_list = sorted(classifierInfo_list, key=lambda x: x.accuracy_score, reverse=True)\n",
    "    \n",
    "    print title\n",
    "    print '-'*48\n",
    "    for i, clfInfo in enumerate(sorted_classifierInfo_list):\n",
    "        formatted_name = clfInfo.classifier_name + ' accuracy:'\n",
    "        formatted_score = '{:06.3f}'.format( clfInfo.accuracy_score)\n",
    "        print '{:<37} {:>6}%'.format( formatted_name, formatted_score )\n",
    "        if clfInfo.note != '':\n",
    "            print '--  {:s}'.format(clfInfo.note)\n"
   ]
  },
  {
   "cell_type": "code",
   "execution_count": 3,
   "metadata": {
    "collapsed": false
   },
   "outputs": [],
   "source": [
    "# ensembling with pre-fitted classifiers in classifierInfo_list  \n",
    "def ensembling_1(x_train, y_train, x_test, y_test, title):\n",
    "    # Create zero-filled arrays for train and test blend data\n",
    "    listLen = len(classifierInfo_list)\n",
    "    sorted_classifierInfo_list = sorted(classifierInfo_list, key=lambda x: x.accuracy_score, reverse=True)\n",
    "    \n",
    "    x_train_blend = np.zeros((x_train.shape[0], listLen))\n",
    "    x_test_blend = np.zeros((x_test.shape[0], listLen))\n",
    "\n",
    "    print '\\n\\nEnsembling With Pre-Fitted Classifiers\\n%s' % ('-'*45 )\n",
    "    print 'x_train_blend: %s' % str(x_train_blend.shape)\n",
    "    print 'x_test_blend: %s\\n' % str(x_test_blend.shape)\n",
    "\n",
    "    # enumerate the list of classifierInfo objects\n",
    "    for i, clfInfo in enumerate(sorted_classifierInfo_list):\n",
    "        # extract the trained classifier\n",
    "        clf = clfInfo.classifier\n",
    "\n",
    "        y_train_data = clf.predict_proba(x_train)[:,1]\n",
    "        x_train_blend[:,i] = y_train_data\n",
    "\n",
    "        y_test_data = clf.predict_proba(x_test)[:,1]\n",
    "        x_test_blend[:,i] = y_test_data\n",
    "        print i, clf.__class__.__name__\n",
    "\n",
    "        if i == listLen-1: break\n",
    "\n",
    "    x_train_blend = np.concatenate(( x_train, x_train_blend ), axis=1)\n",
    "    x_test_blend = np.concatenate(( x_test, x_test_blend ), axis=1)\n",
    "\n",
    "    print '\\nx_train_blend: %s' % str(x_train_blend.shape)\n",
    "    print 'x_test_blend: %s\\n' % str(x_test_blend.shape)\n",
    "\n",
    "    clf = LogisticRegression(C=0.01)\n",
    "    clf.fit(x_train_blend, y_train)\n",
    "\n",
    "    accuracy = clf.score(x_test_blend, y_test)*100.0\n",
    "    print title\n",
    "    print '-'*48\n",
    "    print 'Accuracy: %f%%' % accuracy\n",
    "    \n",
    "# ensembling from scratch with a list of unfitted classifiers\n",
    "def ensembling_2(x_train, y_train, x_test, y_test, title):\n",
    "    base_models = [\n",
    "        RandomForestClassifier(n_estimators=100, n_jobs=-1, criterion='gini'),\n",
    "        RandomForestClassifier(n_estimators=100, n_jobs=-1, criterion='entropy'),\n",
    "        ExtraTreesClassifier(n_estimators=100, n_jobs=-1, criterion='gini'),\n",
    "        ExtraTreesClassifier(n_estimators=100, n_jobs=-1, criterion='entropy'),\n",
    "        GradientBoostingClassifier(learning_rate=0.05, subsample=0.5, max_depth=6, n_estimators=50)\n",
    "    ]\n",
    "    \n",
    "    n_folds = 5\n",
    "    x_train = np.array(x_train)\n",
    "    y_train = np.array(y_train)\n",
    "    x_test = np.array(x_test)\n",
    "    folds = list(KFold(len(y_train), n_folds=n_folds, shuffle=True, random_state=2016))\n",
    "\n",
    "    print '\\n\\nEnsembling With Non-Fitted Classifiers\\n%s' % ('-'*45 )\n",
    "    \n",
    "    x_train_blend = np.zeros((x_train.shape[0], len(base_models)))\n",
    "    x_test_blend = np.zeros((x_test.shape[0], len(base_models)))\n",
    "\n",
    "    print 'x_train_blend: %s' % str(x_train_blend.shape)\n",
    "    print 'x_test_blend: %s\\n' % str(x_test_blend.shape)\n",
    "    \n",
    "    for i, clf in enumerate(base_models):\n",
    "        print i, clf.__class__.__name__\n",
    "        x_test_blend_i = np.zeros((x_test.shape[0], len(folds)))\n",
    "        for j, (train_idx, test_idx) in enumerate(folds):\n",
    "            X_train = x_train[train_idx]\n",
    "            Y_train = y_train[train_idx]\n",
    "            X_holdout = x_train[test_idx]\n",
    "            clf.fit(X_train, Y_train)\n",
    "            y_pred = clf.predict(X_holdout)[:]\n",
    "            x_train_blend[test_idx, i] = y_pred\n",
    "            x_test_blend_i[:, j] = clf.predict(x_test)[:]\n",
    "        x_test_blend[:, i] = x_test_blend_i.mean(1)\n",
    "\n",
    "    print x_test.shape, x_test_blend.shape\n",
    "    \n",
    "    x_train_blend = np.concatenate(( x_train, x_train_blend ), axis = 1)\n",
    "    x_test_blend = np.concatenate(( x_test, x_test_blend ), axis = 1)\n",
    "        \n",
    "    print '\\nx_train_blend: %s' % str(x_train_blend.shape)\n",
    "    print 'x_test_blend: %s\\n' % str(x_test_blend.shape)\n",
    "    \n",
    "    stack_clf = LogisticRegression()\n",
    "    stack_clf.fit(x_train_blend, y_train)\n",
    "\n",
    "    y_pred = clf.predict(x_test)\n",
    "    accuracy = accuracy_score(y_test, y_pred)*100.0\n",
    "\n",
    "    #accuracy = clf.score(x_test_blend, y_test)*100.0\n",
    "    \n",
    "    print title\n",
    "    print '-'*48\n",
    "    print 'Accuracy: %f%%' % accuracy\n",
    "    "
   ]
  },
  {
   "cell_type": "code",
   "execution_count": 4,
   "metadata": {
    "collapsed": true
   },
   "outputs": [],
   "source": [
    "# immature CNN attempt\n",
    "def cnnProcess(x_train, y_train, x_test, y_test):\n",
    "    def binarizeY(labels):\n",
    "        binarized_labels = np.zeros((labels.size, 2))\n",
    "        for i in range(labels.size):\n",
    "            binarized_labels[i,labels[i]] = 1\n",
    "        return binarized_labels\n",
    "    \n",
    "    def gradientDescent(epochs):\n",
    "        score = 0.0\n",
    "        for i in range(epochs):\n",
    "            cost = train(x_train[0:len(x_train)], y_train_b[0:len(x_train)])\n",
    "            accuracy = np.mean(np.argmax(y_test_b, axis=1) == predict(x_test))\n",
    "            if accuracy > score: score = accuracy*100.0\n",
    "            print '%d) accuracy = %.4f%%' %(i+1, score)\n",
    "        return score\n",
    "        \n",
    "    #(1) Parameters\n",
    "    numFeatures = x_train.shape[1]\n",
    "    numClasses = len(np.unique(y_test))\n",
    "    \n",
    "    y_test_b = binarizeY(y_test)\n",
    "    y_train_b = binarizeY(y_train)\n",
    "    \n",
    "    # initialize the weights to small values (non-zero)\n",
    "    w = theano.shared(np.asarray((np.random.randn(*(numFeatures, numClasses))*.01)))\n",
    "\n",
    "    X = T.matrix()\n",
    "    Y = T.matrix()\n",
    "\n",
    "    #(2) Model\n",
    "    y_hat = T.nnet.softmax(T.dot(X, w))\n",
    "    \n",
    "    #(3) Cost Function\n",
    "    cost = T.mean(T.nnet.categorical_crossentropy(y_hat, Y))\n",
    "    \n",
    "    #(4) Execute\n",
    "    alpha = 0.000001\n",
    "    gradient = T.grad(cost=cost, wrt=w) \n",
    "    update = [[w, w - gradient * alpha]] \n",
    "    train = theano.function(inputs=[X, Y], outputs=cost, updates=update, allow_input_downcast=True) # computes cost, then runs update\n",
    "    y_pred = T.argmax(y_hat, axis=1) # select largest probability as prediction\n",
    "    predict = theano.function(inputs=[X], outputs=y_pred, allow_input_downcast=True)\n",
    "\n",
    "    score = gradientDescent(5)\n",
    "    predict(x_test) "
   ]
  },
  {
   "cell_type": "code",
   "execution_count": 5,
   "metadata": {
    "collapsed": false
   },
   "outputs": [
    {
     "name": "stdout",
     "output_type": "stream",
     "text": [
      "\n",
      "col name\n",
      "--- --------------------------------------------\n",
      "  0 \"giver_username_if_known\"\n",
      "  1 \"in_test_set\"\n",
      "  2 \"number_of_downvotes_of_request_at_retrieval\"\n",
      "  3 \"number_of_upvotes_of_request_at_retrieval\"\n",
      "  4 \"post_was_edited\"\n",
      "  5 \"request_id\"\n",
      "  6 \"request_number_of_comments_at_retrieval\"\n",
      "  7 \"request_text\"\n",
      "  8 \"request_text_edit_aware\"\n",
      "  9 \"request_title\"\n",
      " 10 \"requester_account_age_in_days_at_request\"\n",
      " 11 \"requester_account_age_in_days_at_retrieval\"\n",
      " 12 \"requester_days_since_first_post_on_raop_at_request\"\n",
      " 13 \"requester_days_since_first_post_on_raop_at_retrieval\"\n",
      " 14 \"requester_number_of_comments_at_request\"\n",
      " 15 \"requester_number_of_comments_at_retrieval\"\n",
      " 16 \"requester_number_of_comments_in_raop_at_request\"\n",
      " 17 \"requester_number_of_comments_in_raop_at_retrieval\"\n",
      " 18 \"requester_number_of_posts_at_request\"\n",
      " 19 \"requester_number_of_posts_at_retrieval\"\n",
      " 20 \"requester_number_of_posts_on_raop_at_request\"\n",
      " 21 \"requester_number_of_posts_on_raop_at_retrieval\"\n",
      " 22 \"requester_number_of_subreddits_at_request\"\n",
      " 23 \"requester_received_pizza\"\n",
      " 24 \"requester_subreddits_at_request\"\n",
      " 25 \"requester_upvotes_minus_downvotes_at_request\"\n",
      " 26 \"requester_upvotes_minus_downvotes_at_retrieval\"\n",
      " 27 \"requester_upvotes_plus_downvotes_at_request\"\n",
      " 28 \"requester_upvotes_plus_downvotes_at_retrieval\"\n",
      " 29 \"requester_user_flair\"\n",
      " 30 \"requester_username\"\n",
      " 31 \"unix_timestamp_of_request\"\n",
      " 32 \"unix_timestamp_of_request_utc\"\n"
     ]
    },
    {
     "data": {
      "text/html": [
       "<div>\n",
       "<table border=\"1\" class=\"dataframe\">\n",
       "  <thead>\n",
       "    <tr style=\"text-align: right;\">\n",
       "      <th></th>\n",
       "      <th>giver_username_if_known</th>\n",
       "      <th>in_test_set</th>\n",
       "      <th>number_of_downvotes_of_request_at_retrieval</th>\n",
       "      <th>number_of_upvotes_of_request_at_retrieval</th>\n",
       "      <th>post_was_edited</th>\n",
       "      <th>request_id</th>\n",
       "      <th>request_number_of_comments_at_retrieval</th>\n",
       "      <th>request_text</th>\n",
       "      <th>request_text_edit_aware</th>\n",
       "      <th>request_title</th>\n",
       "      <th>...</th>\n",
       "      <th>requester_received_pizza</th>\n",
       "      <th>requester_subreddits_at_request</th>\n",
       "      <th>requester_upvotes_minus_downvotes_at_request</th>\n",
       "      <th>requester_upvotes_minus_downvotes_at_retrieval</th>\n",
       "      <th>requester_upvotes_plus_downvotes_at_request</th>\n",
       "      <th>requester_upvotes_plus_downvotes_at_retrieval</th>\n",
       "      <th>requester_user_flair</th>\n",
       "      <th>requester_username</th>\n",
       "      <th>unix_timestamp_of_request</th>\n",
       "      <th>unix_timestamp_of_request_utc</th>\n",
       "    </tr>\n",
       "  </thead>\n",
       "  <tbody>\n",
       "    <tr>\n",
       "      <th>0</th>\n",
       "      <td>N/A</td>\n",
       "      <td>False</td>\n",
       "      <td>2</td>\n",
       "      <td>6</td>\n",
       "      <td>0</td>\n",
       "      <td>t3_w5491</td>\n",
       "      <td>7</td>\n",
       "      <td>I'm not in College, or a starving artist or an...</td>\n",
       "      <td>I'm not in College, or a starving artist or an...</td>\n",
       "      <td>[Request] Ontario, Canada - On my 3rd of 5 day...</td>\n",
       "      <td>...</td>\n",
       "      <td>True</td>\n",
       "      <td>[AdviceAnimals, WTF, funny, gaming, movies, te...</td>\n",
       "      <td>32</td>\n",
       "      <td>212</td>\n",
       "      <td>48</td>\n",
       "      <td>610</td>\n",
       "      <td>shroom</td>\n",
       "      <td>RitalinYourMemory</td>\n",
       "      <td>1341604684</td>\n",
       "      <td>1341601084</td>\n",
       "    </tr>\n",
       "    <tr>\n",
       "      <th>1</th>\n",
       "      <td>N/A</td>\n",
       "      <td>False</td>\n",
       "      <td>2</td>\n",
       "      <td>6</td>\n",
       "      <td>1</td>\n",
       "      <td>t3_qysgy</td>\n",
       "      <td>8</td>\n",
       "      <td>Hello! It's been a hard 2 months with money an...</td>\n",
       "      <td>Hello! It's been a hard 2 months with money an...</td>\n",
       "      <td>[REQUEST] Southern Arizona, Tucson Hungry Family</td>\n",
       "      <td>...</td>\n",
       "      <td>True</td>\n",
       "      <td>[aww, pics]</td>\n",
       "      <td>5</td>\n",
       "      <td>21</td>\n",
       "      <td>13</td>\n",
       "      <td>57</td>\n",
       "      <td>shroom</td>\n",
       "      <td>blubirdhvn</td>\n",
       "      <td>1331868375</td>\n",
       "      <td>1331864775</td>\n",
       "    </tr>\n",
       "    <tr>\n",
       "      <th>2</th>\n",
       "      <td>N/A</td>\n",
       "      <td>False</td>\n",
       "      <td>1</td>\n",
       "      <td>4</td>\n",
       "      <td>1</td>\n",
       "      <td>t3_if0ed</td>\n",
       "      <td>1</td>\n",
       "      <td>I'm sure there are needier people on this subr...</td>\n",
       "      <td>I'm sure there are needier people on this subr...</td>\n",
       "      <td>[Request] Pizza for a broke college student</td>\n",
       "      <td>...</td>\n",
       "      <td>True</td>\n",
       "      <td>[AskReddit, DoesAnybodyElse, IAmA, Marijuana, ...</td>\n",
       "      <td>1359</td>\n",
       "      <td>2110</td>\n",
       "      <td>2423</td>\n",
       "      <td>3456</td>\n",
       "      <td>shroom</td>\n",
       "      <td>taterpot</td>\n",
       "      <td>1309622289</td>\n",
       "      <td>1309618689</td>\n",
       "    </tr>\n",
       "    <tr>\n",
       "      <th>3</th>\n",
       "      <td>N/A</td>\n",
       "      <td>False</td>\n",
       "      <td>2</td>\n",
       "      <td>13</td>\n",
       "      <td>0</td>\n",
       "      <td>t3_jr3w1</td>\n",
       "      <td>3</td>\n",
       "      <td>I've been unemployed going on three months now...</td>\n",
       "      <td>I've been unemployed going on three months now...</td>\n",
       "      <td>[Request] Unemployed and Sick of Rice (Suffolk...</td>\n",
       "      <td>...</td>\n",
       "      <td>True</td>\n",
       "      <td>[AdviceAnimals, Art, AskReddit, BookCollecting...</td>\n",
       "      <td>1205</td>\n",
       "      <td>4889</td>\n",
       "      <td>2403</td>\n",
       "      <td>8245</td>\n",
       "      <td>shroom</td>\n",
       "      <td>or_me_bender</td>\n",
       "      <td>1314060079</td>\n",
       "      <td>1314056479</td>\n",
       "    </tr>\n",
       "    <tr>\n",
       "      <th>4</th>\n",
       "      <td>N/A</td>\n",
       "      <td>False</td>\n",
       "      <td>1</td>\n",
       "      <td>4</td>\n",
       "      <td>1366847814</td>\n",
       "      <td>t3_1d18tc</td>\n",
       "      <td>5</td>\n",
       "      <td>I ran out of money on my meal card a while bac...</td>\n",
       "      <td>I ran out of money on my meal card a while bac...</td>\n",
       "      <td>[Request] Ohio USA, broke student musician in ...</td>\n",
       "      <td>...</td>\n",
       "      <td>True</td>\n",
       "      <td>[TrueAtheism, atheism, funny]</td>\n",
       "      <td>81</td>\n",
       "      <td>86</td>\n",
       "      <td>225</td>\n",
       "      <td>232</td>\n",
       "      <td>shroom</td>\n",
       "      <td>m_chamberlin</td>\n",
       "      <td>1366839643</td>\n",
       "      <td>1366836043</td>\n",
       "    </tr>\n",
       "    <tr>\n",
       "      <th>5</th>\n",
       "      <td>N/A</td>\n",
       "      <td>False</td>\n",
       "      <td>5</td>\n",
       "      <td>34</td>\n",
       "      <td>0</td>\n",
       "      <td>t3_198a81</td>\n",
       "      <td>18</td>\n",
       "      <td></td>\n",
       "      <td></td>\n",
       "      <td>[Request] [Manteca, CA] 17 days sober and kind...</td>\n",
       "      <td>...</td>\n",
       "      <td>True</td>\n",
       "      <td>[GameDeals, IndieGameBundles, IndieGaming, Ran...</td>\n",
       "      <td>51</td>\n",
       "      <td>108</td>\n",
       "      <td>89</td>\n",
       "      <td>180</td>\n",
       "      <td>shroom</td>\n",
       "      <td>cheesepile</td>\n",
       "      <td>1361842335</td>\n",
       "      <td>1361842335</td>\n",
       "    </tr>\n",
       "    <tr>\n",
       "      <th>6</th>\n",
       "      <td>thisfreaknguy</td>\n",
       "      <td>False</td>\n",
       "      <td>1</td>\n",
       "      <td>2</td>\n",
       "      <td>1364351254</td>\n",
       "      <td>t3_1b33f3</td>\n",
       "      <td>1</td>\n",
       "      <td>Hi amazing people! I've known of this subreddi...</td>\n",
       "      <td>Hi amazing people! I've known of this subreddi...</td>\n",
       "      <td>[request] Camden, SC USA - Broke until Thursda...</td>\n",
       "      <td>...</td>\n",
       "      <td>True</td>\n",
       "      <td>[AdviceAnimals, AskReddit, Frugal, LadyBoners,...</td>\n",
       "      <td>87</td>\n",
       "      <td>648</td>\n",
       "      <td>133</td>\n",
       "      <td>916</td>\n",
       "      <td>shroom</td>\n",
       "      <td>yall_weird</td>\n",
       "      <td>1364354549</td>\n",
       "      <td>1364350949</td>\n",
       "    </tr>\n",
       "    <tr>\n",
       "      <th>7</th>\n",
       "      <td>N/A</td>\n",
       "      <td>False</td>\n",
       "      <td>2</td>\n",
       "      <td>8</td>\n",
       "      <td>0</td>\n",
       "      <td>t3_toxi0</td>\n",
       "      <td>5</td>\n",
       "      <td>I have a couple babysitting gigs lined up next...</td>\n",
       "      <td>I have a couple babysitting gigs lined up next...</td>\n",
       "      <td>[request] college student, just started first ...</td>\n",
       "      <td>...</td>\n",
       "      <td>True</td>\n",
       "      <td>[AdviceAnimals, AppHookup, AskReddit, Australi...</td>\n",
       "      <td>145</td>\n",
       "      <td>3220</td>\n",
       "      <td>277</td>\n",
       "      <td>5798</td>\n",
       "      <td>shroom</td>\n",
       "      <td>STHOA</td>\n",
       "      <td>1337123667</td>\n",
       "      <td>1337120067</td>\n",
       "    </tr>\n",
       "    <tr>\n",
       "      <th>8</th>\n",
       "      <td>N/A</td>\n",
       "      <td>False</td>\n",
       "      <td>6</td>\n",
       "      <td>12</td>\n",
       "      <td>0</td>\n",
       "      <td>t3_12s9wy</td>\n",
       "      <td>2</td>\n",
       "      <td></td>\n",
       "      <td></td>\n",
       "      <td>[request] Had to put my dog down today. broke ...</td>\n",
       "      <td>...</td>\n",
       "      <td>True</td>\n",
       "      <td>[AskReddit, Documentaries, FanTheories, Foreve...</td>\n",
       "      <td>2385</td>\n",
       "      <td>5407</td>\n",
       "      <td>3671</td>\n",
       "      <td>14317</td>\n",
       "      <td>shroom</td>\n",
       "      <td>Emmaleep</td>\n",
       "      <td>1352271364</td>\n",
       "      <td>1352271364</td>\n",
       "    </tr>\n",
       "    <tr>\n",
       "      <th>9</th>\n",
       "      <td>N/A</td>\n",
       "      <td>False</td>\n",
       "      <td>3</td>\n",
       "      <td>6</td>\n",
       "      <td>1</td>\n",
       "      <td>t3_tc5sp</td>\n",
       "      <td>3</td>\n",
       "      <td>So it's finals week and I haven't eaten all da...</td>\n",
       "      <td>So it's finals week and I haven't eaten all da...</td>\n",
       "      <td>[Request] College Student would love a pizza...</td>\n",
       "      <td>...</td>\n",
       "      <td>True</td>\n",
       "      <td>[AskReddit, DessertPorn, IAmA, LongDistance, Q...</td>\n",
       "      <td>167</td>\n",
       "      <td>482</td>\n",
       "      <td>263</td>\n",
       "      <td>768</td>\n",
       "      <td>shroom</td>\n",
       "      <td>shmily16</td>\n",
       "      <td>1336443909</td>\n",
       "      <td>1336440309</td>\n",
       "    </tr>\n",
       "  </tbody>\n",
       "</table>\n",
       "<p>10 rows × 33 columns</p>\n",
       "</div>"
      ],
      "text/plain": [
       "  giver_username_if_known in_test_set  \\\n",
       "0                     N/A       False   \n",
       "1                     N/A       False   \n",
       "2                     N/A       False   \n",
       "3                     N/A       False   \n",
       "4                     N/A       False   \n",
       "5                     N/A       False   \n",
       "6           thisfreaknguy       False   \n",
       "7                     N/A       False   \n",
       "8                     N/A       False   \n",
       "9                     N/A       False   \n",
       "\n",
       "   number_of_downvotes_of_request_at_retrieval  \\\n",
       "0                                            2   \n",
       "1                                            2   \n",
       "2                                            1   \n",
       "3                                            2   \n",
       "4                                            1   \n",
       "5                                            5   \n",
       "6                                            1   \n",
       "7                                            2   \n",
       "8                                            6   \n",
       "9                                            3   \n",
       "\n",
       "   number_of_upvotes_of_request_at_retrieval  post_was_edited request_id  \\\n",
       "0                                          6                0   t3_w5491   \n",
       "1                                          6                1   t3_qysgy   \n",
       "2                                          4                1   t3_if0ed   \n",
       "3                                         13                0   t3_jr3w1   \n",
       "4                                          4       1366847814  t3_1d18tc   \n",
       "5                                         34                0  t3_198a81   \n",
       "6                                          2       1364351254  t3_1b33f3   \n",
       "7                                          8                0   t3_toxi0   \n",
       "8                                         12                0  t3_12s9wy   \n",
       "9                                          6                1   t3_tc5sp   \n",
       "\n",
       "   request_number_of_comments_at_retrieval  \\\n",
       "0                                        7   \n",
       "1                                        8   \n",
       "2                                        1   \n",
       "3                                        3   \n",
       "4                                        5   \n",
       "5                                       18   \n",
       "6                                        1   \n",
       "7                                        5   \n",
       "8                                        2   \n",
       "9                                        3   \n",
       "\n",
       "                                        request_text  \\\n",
       "0  I'm not in College, or a starving artist or an...   \n",
       "1  Hello! It's been a hard 2 months with money an...   \n",
       "2  I'm sure there are needier people on this subr...   \n",
       "3  I've been unemployed going on three months now...   \n",
       "4  I ran out of money on my meal card a while bac...   \n",
       "5                                                      \n",
       "6  Hi amazing people! I've known of this subreddi...   \n",
       "7  I have a couple babysitting gigs lined up next...   \n",
       "8                                                      \n",
       "9  So it's finals week and I haven't eaten all da...   \n",
       "\n",
       "                             request_text_edit_aware  \\\n",
       "0  I'm not in College, or a starving artist or an...   \n",
       "1  Hello! It's been a hard 2 months with money an...   \n",
       "2  I'm sure there are needier people on this subr...   \n",
       "3  I've been unemployed going on three months now...   \n",
       "4  I ran out of money on my meal card a while bac...   \n",
       "5                                                      \n",
       "6  Hi amazing people! I've known of this subreddi...   \n",
       "7  I have a couple babysitting gigs lined up next...   \n",
       "8                                                      \n",
       "9  So it's finals week and I haven't eaten all da...   \n",
       "\n",
       "                                       request_title  \\\n",
       "0  [Request] Ontario, Canada - On my 3rd of 5 day...   \n",
       "1   [REQUEST] Southern Arizona, Tucson Hungry Family   \n",
       "2        [Request] Pizza for a broke college student   \n",
       "3  [Request] Unemployed and Sick of Rice (Suffolk...   \n",
       "4  [Request] Ohio USA, broke student musician in ...   \n",
       "5  [Request] [Manteca, CA] 17 days sober and kind...   \n",
       "6  [request] Camden, SC USA - Broke until Thursda...   \n",
       "7  [request] college student, just started first ...   \n",
       "8  [request] Had to put my dog down today. broke ...   \n",
       "9   [Request] College Student would love a pizza...    \n",
       "\n",
       "               ...                requester_received_pizza  \\\n",
       "0              ...                                    True   \n",
       "1              ...                                    True   \n",
       "2              ...                                    True   \n",
       "3              ...                                    True   \n",
       "4              ...                                    True   \n",
       "5              ...                                    True   \n",
       "6              ...                                    True   \n",
       "7              ...                                    True   \n",
       "8              ...                                    True   \n",
       "9              ...                                    True   \n",
       "\n",
       "                     requester_subreddits_at_request  \\\n",
       "0  [AdviceAnimals, WTF, funny, gaming, movies, te...   \n",
       "1                                        [aww, pics]   \n",
       "2  [AskReddit, DoesAnybodyElse, IAmA, Marijuana, ...   \n",
       "3  [AdviceAnimals, Art, AskReddit, BookCollecting...   \n",
       "4                      [TrueAtheism, atheism, funny]   \n",
       "5  [GameDeals, IndieGameBundles, IndieGaming, Ran...   \n",
       "6  [AdviceAnimals, AskReddit, Frugal, LadyBoners,...   \n",
       "7  [AdviceAnimals, AppHookup, AskReddit, Australi...   \n",
       "8  [AskReddit, Documentaries, FanTheories, Foreve...   \n",
       "9  [AskReddit, DessertPorn, IAmA, LongDistance, Q...   \n",
       "\n",
       "   requester_upvotes_minus_downvotes_at_request  \\\n",
       "0                                            32   \n",
       "1                                             5   \n",
       "2                                          1359   \n",
       "3                                          1205   \n",
       "4                                            81   \n",
       "5                                            51   \n",
       "6                                            87   \n",
       "7                                           145   \n",
       "8                                          2385   \n",
       "9                                           167   \n",
       "\n",
       "   requester_upvotes_minus_downvotes_at_retrieval  \\\n",
       "0                                             212   \n",
       "1                                              21   \n",
       "2                                            2110   \n",
       "3                                            4889   \n",
       "4                                              86   \n",
       "5                                             108   \n",
       "6                                             648   \n",
       "7                                            3220   \n",
       "8                                            5407   \n",
       "9                                             482   \n",
       "\n",
       "   requester_upvotes_plus_downvotes_at_request  \\\n",
       "0                                           48   \n",
       "1                                           13   \n",
       "2                                         2423   \n",
       "3                                         2403   \n",
       "4                                          225   \n",
       "5                                           89   \n",
       "6                                          133   \n",
       "7                                          277   \n",
       "8                                         3671   \n",
       "9                                          263   \n",
       "\n",
       "   requester_upvotes_plus_downvotes_at_retrieval  requester_user_flair  \\\n",
       "0                                            610                shroom   \n",
       "1                                             57                shroom   \n",
       "2                                           3456                shroom   \n",
       "3                                           8245                shroom   \n",
       "4                                            232                shroom   \n",
       "5                                            180                shroom   \n",
       "6                                            916                shroom   \n",
       "7                                           5798                shroom   \n",
       "8                                          14317                shroom   \n",
       "9                                            768                shroom   \n",
       "\n",
       "   requester_username  unix_timestamp_of_request  \\\n",
       "0   RitalinYourMemory                 1341604684   \n",
       "1          blubirdhvn                 1331868375   \n",
       "2            taterpot                 1309622289   \n",
       "3        or_me_bender                 1314060079   \n",
       "4        m_chamberlin                 1366839643   \n",
       "5          cheesepile                 1361842335   \n",
       "6          yall_weird                 1364354549   \n",
       "7               STHOA                 1337123667   \n",
       "8            Emmaleep                 1352271364   \n",
       "9            shmily16                 1336443909   \n",
       "\n",
       "   unix_timestamp_of_request_utc  \n",
       "0                     1341601084  \n",
       "1                     1331864775  \n",
       "2                     1309618689  \n",
       "3                     1314056479  \n",
       "4                     1366836043  \n",
       "5                     1361842335  \n",
       "6                     1364350949  \n",
       "7                     1337120067  \n",
       "8                     1352271364  \n",
       "9                     1336440309  \n",
       "\n",
       "[10 rows x 33 columns]"
      ]
     },
     "execution_count": 5,
     "metadata": {},
     "output_type": "execute_result"
    }
   ],
   "source": [
    "RAOP = pd.read_json('pizza_request_dataset.json')\n",
    "printDataframeColumns(RAOP)\n",
    "RAOP.head(n=10)"
   ]
  },
  {
   "cell_type": "markdown",
   "metadata": {},
   "source": [
    "# Data Exploration"
   ]
  },
  {
   "cell_type": "code",
   "execution_count": 6,
   "metadata": {
    "collapsed": false
   },
   "outputs": [
    {
     "name": "stdout",
     "output_type": "stream",
     "text": [
      "(5671, 33)\n"
     ]
    }
   ],
   "source": [
    "print RAOP.shape"
   ]
  },
  {
   "cell_type": "code",
   "execution_count": 7,
   "metadata": {
    "collapsed": false
   },
   "outputs": [
    {
     "name": "stdout",
     "output_type": "stream",
     "text": [
      "<class 'pandas.core.frame.DataFrame'>\n",
      "Int64Index: 5671 entries, 0 to 5670\n",
      "Data columns (total 33 columns):\n",
      "giver_username_if_known                                 5671 non-null object\n",
      "in_test_set                                             5671 non-null bool\n",
      "number_of_downvotes_of_request_at_retrieval             5671 non-null int64\n",
      "number_of_upvotes_of_request_at_retrieval               5671 non-null int64\n",
      "post_was_edited                                         5671 non-null int64\n",
      "request_id                                              5671 non-null object\n",
      "request_number_of_comments_at_retrieval                 5671 non-null int64\n",
      "request_text                                            5671 non-null object\n",
      "request_text_edit_aware                                 5671 non-null object\n",
      "request_title                                           5671 non-null object\n",
      "requester_account_age_in_days_at_request                5671 non-null float64\n",
      "requester_account_age_in_days_at_retrieval              5671 non-null float64\n",
      "requester_days_since_first_post_on_raop_at_request      5671 non-null float64\n",
      "requester_days_since_first_post_on_raop_at_retrieval    5671 non-null float64\n",
      "requester_number_of_comments_at_request                 5671 non-null int64\n",
      "requester_number_of_comments_at_retrieval               5671 non-null int64\n",
      "requester_number_of_comments_in_raop_at_request         5671 non-null int64\n",
      "requester_number_of_comments_in_raop_at_retrieval       5671 non-null int64\n",
      "requester_number_of_posts_at_request                    5671 non-null int64\n",
      "requester_number_of_posts_at_retrieval                  5671 non-null int64\n",
      "requester_number_of_posts_on_raop_at_request            5671 non-null int64\n",
      "requester_number_of_posts_on_raop_at_retrieval          5671 non-null int64\n",
      "requester_number_of_subreddits_at_request               5671 non-null int64\n",
      "requester_received_pizza                                5671 non-null bool\n",
      "requester_subreddits_at_request                         5671 non-null object\n",
      "requester_upvotes_minus_downvotes_at_request            5671 non-null int64\n",
      "requester_upvotes_minus_downvotes_at_retrieval          5671 non-null int64\n",
      "requester_upvotes_plus_downvotes_at_request             5671 non-null int64\n",
      "requester_upvotes_plus_downvotes_at_retrieval           5671 non-null int64\n",
      "requester_user_flair                                    1389 non-null object\n",
      "requester_username                                      5671 non-null object\n",
      "unix_timestamp_of_request                               5671 non-null int64\n",
      "unix_timestamp_of_request_utc                           5671 non-null int64\n",
      "dtypes: bool(2), float64(4), int64(19), object(8)\n",
      "memory usage: 1.4+ MB\n",
      "None\n"
     ]
    }
   ],
   "source": [
    "print RAOP.info()"
   ]
  },
  {
   "cell_type": "code",
   "execution_count": 8,
   "metadata": {
    "collapsed": false
   },
   "outputs": [],
   "source": [
    "#print(RAOP.describe())"
   ]
  },
  {
   "cell_type": "code",
   "execution_count": 9,
   "metadata": {
    "collapsed": false,
    "scrolled": true
   },
   "outputs": [
    {
     "name": "stdout",
     "output_type": "stream",
     "text": [
      "False    4274\n",
      "True     1397\n",
      "Name: requester_received_pizza, dtype: int64\n"
     ]
    }
   ],
   "source": [
    "print RAOP[\"requester_received_pizza\"].value_counts()"
   ]
  },
  {
   "cell_type": "code",
   "execution_count": 10,
   "metadata": {
    "collapsed": false
   },
   "outputs": [],
   "source": [
    "# Make a copy of source data for cleanup and feature engineering\n",
    "RAOP_updated = RAOP.copy()"
   ]
  },
  {
   "cell_type": "markdown",
   "metadata": {},
   "source": [
    "# Feature Engineering"
   ]
  },
  {
   "cell_type": "code",
   "execution_count": 11,
   "metadata": {
    "collapsed": false
   },
   "outputs": [],
   "source": [
    "def text_preprocessor(s):\n",
    "    s =  re.compile(\"[^\\w']|_\").sub(\" \",s.lower())\n",
    "    # remove mutiple spaces\n",
    "    s= re.sub(' +',' ', s)\n",
    "    return s    "
   ]
  },
  {
   "cell_type": "code",
   "execution_count": 12,
   "metadata": {
    "collapsed": false
   },
   "outputs": [
    {
     "name": "stdout",
     "output_type": "stream",
     "text": [
      "Start of Feature Engineering\n"
     ]
    }
   ],
   "source": [
    "# set timer\n",
    "start_time = time.time()\n",
    "print \"Start of Feature Engineering\"\n",
    "\n",
    "### New columns: \n",
    "#request_text_updated : remove special characters from request text (edit aware) and make it lower case\n",
    "#request_title_updated: remove special characters from title text and make it lower case\n",
    "#request_title_plus_text: concatenate request and title text after the update. \n",
    "#request_text_length: get length of request text \n",
    "#request_title_text_length: get length of combined request and title text\n",
    "\n",
    "RAOP_updated[\"request_text_updated\"] = RAOP_updated.apply(lambda updated_text: text_preprocessor(updated_text[\"request_text_edit_aware\"]), axis=1)\n",
    "RAOP_updated[\"request_title_updated\"] = RAOP_updated.apply(lambda updated_text: text_preprocessor(updated_text[\"request_title\"]), axis=1)\n",
    "\n",
    "# Add a new column containing text from both the request and title\n",
    "RAOP_updated[\"request_title_plus_text\"] =  RAOP_updated[\"request_title_updated\"] + ' ' + RAOP_updated[\"request_text_updated\"]\n",
    "\n",
    "# Add a new column for length of request and combined (request plus title) text\n",
    "RAOP_updated[\"request_text_length\"] = RAOP_updated.apply(lambda text_length: len(text_length[\"request_text_updated\"]), axis=1)\n",
    "RAOP_updated[\"request_title_text_length\"] = RAOP_updated.apply(lambda text_length: len(text_length[\"request_title_plus_text\"]), axis=1)\n",
    "\n",
    "#RAOP_updated.head()"
   ]
  },
  {
   "cell_type": "code",
   "execution_count": 13,
   "metadata": {
    "collapsed": false
   },
   "outputs": [
    {
     "data": {
      "text/plain": [
       "False    5423\n",
       "True      248\n",
       "Name: image_in_text, dtype: int64"
      ]
     },
     "execution_count": 13,
     "metadata": {},
     "output_type": "execute_result"
    }
   ],
   "source": [
    "#New column:\n",
    "#image_in_text: check presence of certain words such as 'imgur.com|.jpg|.png|.jpeg' which indicates presence of images \n",
    "#used to provide evidence of need. Use it to make binary column with True(1) for presence of image and False(0) for not.\n",
    "image_in_text = RAOP_updated[\"request_title_plus_text\"].str.contains('imgur.com|.jpg|.png|.jpeg', case=False)\n",
    "image_in_text.name = \"image_in_text\"\n",
    "RAOP_updated = pd.concat([RAOP_updated, pd.DataFrame(image_in_text)], axis='col') \n",
    "RAOP_updated[\"image_in_text\"].value_counts()"
   ]
  },
  {
   "cell_type": "code",
   "execution_count": 14,
   "metadata": {
    "collapsed": true
   },
   "outputs": [],
   "source": [
    "# Removed Per Kaggle instruction.\n",
    "#Update column requester_user_flair to have binary values : 1 if it contains either shroom or PIF and 0 if it doesn't.\n",
    "#RAOP_updated[\"requester_user_flair\"].value_counts()\n",
    "#RAOP_updated.loc[((RAOP_updated.requester_user_flair!= 'shroom') & (RAOP_updated.requester_user_flair != 'PIF')), 'requester_user_flair'] = 0\n",
    "#RAOP_updated.loc[((RAOP_updated.requester_user_flair== 'shroom') | (RAOP_updated.requester_user_flair == 'PIF')), 'requester_user_flair'] = 1 \n",
    "#RAOP_updated.loc[RAOP_updated.requester_user_flair== 0]\n",
    "#RAOP_updated[\"requester_user_flair\"].value_counts()"
   ]
  },
  {
   "cell_type": "code",
   "execution_count": 15,
   "metadata": {
    "collapsed": false
   },
   "outputs": [
    {
     "name": "stdout",
     "output_type": "stream",
     "text": [
      "\n",
      "Elapsed time (SpellCheck): 0:35.612\n",
      "Total elapsed time: 0:37.256\n"
     ]
    }
   ],
   "source": [
    "# New column\n",
    "#spelling_errors_ratio: ratio of spelling errors in text and title to the length of total text plus title\n",
    "function_start_time=time.time()\n",
    "from enchant.checker import SpellChecker\n",
    "chkr = SpellChecker(\"en_US\")\n",
    "d = {}\n",
    "l=[]\n",
    "for i in range(RAOP_updated.shape[0]):\n",
    "    request_title_text = RAOP_updated[\"request_title_plus_text\"][i]\n",
    "    request_title_text_length = int(RAOP_updated[\"request_title_text_length\"][i])\n",
    "    chkr.set_text(request_title_text)\n",
    "    count=0\n",
    "    fraction_spelling_error=0\n",
    "    for err in chkr:\n",
    "        count+=1\n",
    "    fraction_spelling_error =  (count *1.0) /request_title_text_length\n",
    "    l.append(fraction_spelling_error)\n",
    "d.update({'spelling_errors_ratio':l})\n",
    "RAOP_updated = pd.concat([RAOP_updated, pd.DataFrame(d)], axis='col')\n",
    "#RAOP_updated[\"spelling_errors\"].value_counts()\n",
    "#RAOP_updated[\"spelling_errors_ratio\"][0:100]\n",
    "\n",
    "printElapsedTime('SpellCheck')"
   ]
  },
  {
   "cell_type": "code",
   "execution_count": 16,
   "metadata": {
    "collapsed": false
   },
   "outputs": [
    {
     "name": "stdout",
     "output_type": "stream",
     "text": [
      "5671\n"
     ]
    },
    {
     "data": {
      "text/plain": [
       "1    2982\n",
       "0    2689\n",
       "Name: part_of_month_indicator, dtype: int64"
      ]
     },
     "execution_count": 16,
     "metadata": {},
     "output_type": "execute_result"
    }
   ],
   "source": [
    "# New column\n",
    "# part_of_month_indicator: binary values: 0 if first half of month and 1 if it's second half of month.\n",
    "d = {}\n",
    "l=[]\n",
    "for i in range(RAOP_updated.shape[0]):\n",
    "    request_time_utc = datetime.datetime.utcfromtimestamp(RAOP_updated[\"unix_timestamp_of_request_utc\"][i])\n",
    "    request_time_utc_day = request_time_utc.day\n",
    "    part_of_month = 2\n",
    "    if int(request_time_utc_day) < 16:\n",
    "        part_of_month = 0  \n",
    "    else:\n",
    "        part_of_month = 1\n",
    "    l.append(part_of_month)\n",
    "d.update({'part_of_month_indicator':l})\n",
    "  \n",
    "print len(l)\n",
    "#nouns_df = pd.DataFrame(nouns_df)   \n",
    "RAOP_updated = pd.concat([RAOP_updated, pd.DataFrame(d)], axis='col')\n",
    "RAOP_updated[\"part_of_month_indicator\"].value_counts()"
   ]
  },
  {
   "cell_type": "code",
   "execution_count": 17,
   "metadata": {
    "collapsed": false
   },
   "outputs": [
    {
     "data": {
      "text/plain": [
       "0    5271\n",
       "1     400\n",
       "Name: giver_username_if_known, dtype: int64"
      ]
     },
     "execution_count": 17,
     "metadata": {},
     "output_type": "execute_result"
    }
   ],
   "source": [
    "#Update column:\n",
    "#giver_username_if_known: binary values: 1 if giver username is known and 0 if it is not.\n",
    "RAOP_updated.loc[(RAOP_updated.giver_username_if_known!= 'N/A'),  'giver_username_if_known'] = 1\n",
    "RAOP_updated.loc[(RAOP_updated.giver_username_if_known== 'N/A'),  'giver_username_if_known'] = 0\n",
    "#print RAOP_updated.loc[(RAOP_updated.giver_username_if_known!= 'N/A')].shape\n",
    "RAOP_updated.giver_username_if_known.value_counts()"
   ]
  },
  {
   "cell_type": "code",
   "execution_count": 18,
   "metadata": {
    "collapsed": false
   },
   "outputs": [],
   "source": [
    "# Change data type from boolean to int (0, 1)\n",
    "RAOP_updated.requester_received_pizza = RAOP_updated.requester_received_pizza.astype(int)\n",
    "RAOP_updated.image_in_text = RAOP_updated.image_in_text.astype(int)\n",
    "#RAOP_updated.requester_user_flair = RAOP_updated.requester_user_flair.astype(int)\n",
    "RAOP_updated.giver_username_if_known = RAOP_updated.giver_username_if_known.astype(int)\n",
    "RAOP_updated.part_of_month_indicator = RAOP_updated.part_of_month_indicator.astype(int)"
   ]
  },
  {
   "cell_type": "code",
   "execution_count": 19,
   "metadata": {
    "collapsed": false
   },
   "outputs": [
    {
     "name": "stdout",
     "output_type": "stream",
     "text": [
      "<class 'pandas.core.frame.DataFrame'>\n",
      "Int64Index: 5671 entries, 0 to 5670\n",
      "Data columns (total 41 columns):\n",
      "giver_username_if_known                                 5671 non-null int64\n",
      "in_test_set                                             5671 non-null bool\n",
      "number_of_downvotes_of_request_at_retrieval             5671 non-null int64\n",
      "number_of_upvotes_of_request_at_retrieval               5671 non-null int64\n",
      "post_was_edited                                         5671 non-null int64\n",
      "request_id                                              5671 non-null object\n",
      "request_number_of_comments_at_retrieval                 5671 non-null int64\n",
      "request_text                                            5671 non-null object\n",
      "request_text_edit_aware                                 5671 non-null object\n",
      "request_title                                           5671 non-null object\n",
      "requester_account_age_in_days_at_request                5671 non-null float64\n",
      "requester_account_age_in_days_at_retrieval              5671 non-null float64\n",
      "requester_days_since_first_post_on_raop_at_request      5671 non-null float64\n",
      "requester_days_since_first_post_on_raop_at_retrieval    5671 non-null float64\n",
      "requester_number_of_comments_at_request                 5671 non-null int64\n",
      "requester_number_of_comments_at_retrieval               5671 non-null int64\n",
      "requester_number_of_comments_in_raop_at_request         5671 non-null int64\n",
      "requester_number_of_comments_in_raop_at_retrieval       5671 non-null int64\n",
      "requester_number_of_posts_at_request                    5671 non-null int64\n",
      "requester_number_of_posts_at_retrieval                  5671 non-null int64\n",
      "requester_number_of_posts_on_raop_at_request            5671 non-null int64\n",
      "requester_number_of_posts_on_raop_at_retrieval          5671 non-null int64\n",
      "requester_number_of_subreddits_at_request               5671 non-null int64\n",
      "requester_received_pizza                                5671 non-null int64\n",
      "requester_subreddits_at_request                         5671 non-null object\n",
      "requester_upvotes_minus_downvotes_at_request            5671 non-null int64\n",
      "requester_upvotes_minus_downvotes_at_retrieval          5671 non-null int64\n",
      "requester_upvotes_plus_downvotes_at_request             5671 non-null int64\n",
      "requester_upvotes_plus_downvotes_at_retrieval           5671 non-null int64\n",
      "requester_user_flair                                    1389 non-null object\n",
      "requester_username                                      5671 non-null object\n",
      "unix_timestamp_of_request                               5671 non-null int64\n",
      "unix_timestamp_of_request_utc                           5671 non-null int64\n",
      "request_text_updated                                    5671 non-null object\n",
      "request_title_updated                                   5671 non-null object\n",
      "request_title_plus_text                                 5671 non-null object\n",
      "request_text_length                                     5671 non-null int64\n",
      "request_title_text_length                               5671 non-null int64\n",
      "image_in_text                                           5671 non-null int64\n",
      "spelling_errors_ratio                                   5671 non-null float64\n",
      "part_of_month_indicator                                 5671 non-null int64\n",
      "dtypes: bool(1), float64(5), int64(25), object(10)\n",
      "memory usage: 1.8+ MB\n",
      "None\n"
     ]
    }
   ],
   "source": [
    "print RAOP_updated.info() \n",
    "#print RAOP_updated.head() "
   ]
  },
  {
   "cell_type": "markdown",
   "metadata": {},
   "source": [
    "# Topic Modelling Using Unsupervised Method"
   ]
  },
  {
   "cell_type": "code",
   "execution_count": 20,
   "metadata": {
    "collapsed": false
   },
   "outputs": [
    {
     "name": "stdout",
     "output_type": "stream",
     "text": [
      "\n",
      "Elapsed time (top 100, 200 nouns processed): 0:51.675\n",
      "Total elapsed time: 1:29.279\n"
     ]
    }
   ],
   "source": [
    "function_start_time=time.time()\n",
    "# Get text for all the requests for combined request and title.\n",
    "request_text_with_title=''\n",
    "for i in range(RAOP_updated.shape[0]):\n",
    "    request_text_with_title+= str(RAOP_updated[\"request_title_plus_text\"][i])\n",
    "\n",
    "#Get nouns for all the request texts plus title\n",
    "text = request_text_with_title\n",
    "text=text.lower()\n",
    "token_text= nltk.word_tokenize(text)\n",
    "tagged_sent = nltk.pos_tag(token_text)\n",
    "nouns= []\n",
    "noun_array = np.chararray((RAOP_updated.shape[0], 10000))\n",
    "adjectives= []\n",
    "adjectives_array = np.chararray((RAOP_updated.shape[0], 10000))\n",
    "verbs= []\n",
    "verbs_array = np.chararray((RAOP_updated.shape[0], 10000))\n",
    "for word,pos in tagged_sent:\n",
    "    if pos in ['NN',\"NNP\",\"NNS\", \"NNPS\"]:\n",
    "        nouns.append(word)\n",
    "    elif pos in ['JJ',\"JJR\",\"JJS\"]:\n",
    "        adjectives.append(word)\n",
    "    elif pos in ['VB',\"VBD\",\"VBG\",'VBN',\"VBP\",\"VBZ\"]:\n",
    "        verbs.append(word)\n",
    "freq_nouns=nltk.FreqDist(nouns)\n",
    "top_100_noun =[x[0] for x in freq_nouns.most_common(100)[:]]\n",
    "top_200_noun =[x[0] for x in freq_nouns.most_common(200)[:]]\n",
    "top_250_noun =[x[0] for x in freq_nouns.most_common(250)[:]]\n",
    "\n",
    "\n",
    "freq_adjectives=nltk.FreqDist(adjectives)\n",
    "top_100_adjectives =[x[0] for x in freq_adjectives.most_common(100)[:]]\n",
    "top_250_adjectives =[x[0] for x in freq_adjectives.most_common(250)[:]]\n",
    "\n",
    "freq_verbs=nltk.FreqDist(verbs)\n",
    "top_100_verbs =[x[0] for x in freq_verbs.most_common(100)[:]]\n",
    "top_250_verbs =[x[0] for x in freq_verbs.most_common(250)[:]]\n",
    "\n",
    "#top_500_words = top_250_noun + top_250_adjectives + top_250_verbs\n",
    "top_words_nouns_adjectives = top_250_noun + top_250_adjectives\n",
    "top_words_nouns_adjectives = list(set(top_words_nouns_adjectives))\n",
    "\n",
    "printElapsedTime(\"top 100, 200 nouns processed\")"
   ]
  },
  {
   "cell_type": "code",
   "execution_count": 21,
   "metadata": {
    "collapsed": false
   },
   "outputs": [
    {
     "data": {
      "image/png": "[encoded data removed]",
      "text/plain": [
       "<matplotlib.figure.Figure at 0x11e87d0d0>"
      ]
     },
     "metadata": {},
     "output_type": "display_data"
    }
   ],
   "source": [
    "# See the topic clusters based on the top 200 nouns.\n",
    "# Using PCA reduce the features to 2 dimension and plot to see how the topics are clustered.\n",
    "# Looks like there are five clusters for the top 200 nouns\n",
    "vectorizer = CountVectorizer(min_df=1, vocabulary=top_words_nouns_adjectives)\n",
    "X_train_data = vectorizer.fit_transform(RAOP_updated[\"request_title_plus_text\"])\n",
    "X_train_data.shape\n",
    "\n",
    "pca = PCA(n_components =2)\n",
    "pca.fit(X_train_data.toarray())\n",
    "X_pca= pca.transform(X_train_data.toarray())\n",
    "#print X_pca.shape\n",
    "#X_pca[0:100,:]\n",
    "\n",
    "plt.scatter(X_pca[:, 0], X_pca[:, 1])\n",
    "plt.axis('equal');"
   ]
  },
  {
   "cell_type": "code",
   "execution_count": 22,
   "metadata": {
    "collapsed": false
   },
   "outputs": [
    {
     "name": "stdout",
     "output_type": "stream",
     "text": [
      "(5671, 470)\n",
      "(5, 470)\n",
      "topic 0       topic 1       topic 2       topic 3       topic 4       \n",
      "--------      --------      --------      --------      --------      \n",
      "pizza         pizza         pizza         pizza         request       \n",
      "request       com           request       request       get           \n",
      "love          http          help          time          food          \n",
      "hungry        request       family        job           week          \n",
      "college       imgur         food          get           pay           \n",
      "broke         reddit        tonight       work          money         \n",
      "student       card          kids          one           help          \n",
      "thanks        gift          dinner        day           last          \n",
      "get           jpg           birthday      more          next          \n",
      "day           picture       get           long          pizza         \n",
      "tonight       www           money         help          job           \n",
      "help          amp           house         food          days          \n",
      "money         cat           anyone        people        broke         \n",
      "night         post          wife          much          friday        \n",
      "right         order         please        money         work          \n",
      "much          edit          mom           last          account       \n",
      "anyone        someone       home          life          ramen         \n",
      "pretty        help          today         few           weeks         \n",
      "one           something     old           year          rent          \n",
      "hey           random        husband       good          bank          \n",
      "please        hungry        love          while         paycheck      \n",
      "story         one           thanks        new           hungry        \n",
      "tomorrow      only          friend        way           month         \n",
      "someone       offer         little        first         new           \n",
      "time          paypal        someone       months        few           \n",
      "guys          food          year          something     anyone        \n",
      "usa           account       mother        only          check         \n",
      "food          need          thank         bad           thanks        \n",
      "pay           get           much          right         tomorrow      \n",
      "today         proof         son           things        someone       \n",
      "poor          willing       day           days          only          \n",
      "work          verification  need          need          need          \n",
      "need          pictures      night         able          rice          \n",
      "home          please        tomorrow      anything      bills         \n",
      "pie           today         daughter      pay           first         \n",
      "random        free          single        other         couple        \n",
      "awesome       right         dad           little        favor         \n",
      "sob           other         sister        car           monday        \n",
      "first         money         new           today         today         \n",
      "school        code          something     years         till          \n",
      "good          cash          hungry        story         return        \n",
      "nice          anyone        im            live          payday        \n",
      "uk            acts          anything      someone       enough        \n",
      "anything      new           amp           month         car           \n",
      "raop          redditor      brother       lot           living        \n",
      "week          thank         able          hard          more          \n",
      "stuck         thing         nothing       week          able          \n",
      "papa          credit        usa           thanks        due           \n",
      "last          thanks        one           jobs          past          \n",
      "students      hut           parents       home          student       \n",
      "return        local         children      hours         time          \n",
      "edit          raop          baby          friends       thank         \n",
      "finals        online        appreciated   friend        one           \n",
      "dinner        way           pregnant      night         cash          \n",
      "delicious     name          work          school        please        \n",
      "willing       uk            father        try           anything      \n",
      "kind          dog           live          reddit        much          \n",
      "lunch         tomorrow      site          girlfriend    little        \n",
      "title         awesome       right         love          fridge        \n",
      "great         internet      willing       better        gas           \n",
      "appreciated   place         verification  unemployed    day           \n",
      "free          bank          only          couple        thursday      \n",
      "cheese        kind          great         weeks         appreciated   \n",
      "friends       dominos       hi            place         kind          \n",
      "while         sorry         nice          nice          tonight       \n",
      "long          sweet         stamps        bit           right         \n",
      "cash          work          week          sure          empty         \n",
      "university    try           best          bills         bit           \n",
      "sure          things        california    most          groceries     \n",
      "nothing       good          everyone      everything    card          \n",
      "reddit        game          hard          house         promise       \n",
      "hut           reason        town          best          something     \n",
      "friend        return        hello         pretty        months        \n",
      "something     lt            broke         living        tuesday       \n",
      "girlfriend    broke         while         past          bill          \n",
      "friday        person        time          enough        willing       \n",
      "johns         hi            yesterday     luck          noodles       \n",
      "thank         guy           meal          great         wednesday     \n",
      "sick          tonight       reddit        thing         meal          \n",
      "summer        else          kind          kind          til           \n",
      "weekend       pretty        month         post          hey           \n",
      "cheesy        girlfriend    tight         parents       home          \n",
      "live          more          special       nothing       yesterday     \n",
      "kid           much          area          edit          end           \n",
      "enough        papa          cheese        real          pantry        \n",
      "little        while         party         boyfriend     apartment     \n",
      "hot           anything      living        thank         live          \n",
      "roommate      puppy         good          due           funds         \n",
      "order         graphic       code          situation     weekend       \n",
      "hello         live          enough        times         dollars       \n",
      "hi            generous      hot           own           im            \n",
      "super         canadian      years         old           house         \n",
      "canada        friends       ramen         guy           nothing       \n",
      "way           such          awesome       else          sick          \n",
      "\n",
      "\n",
      "\n",
      "Elapsed time (LDA topic modeling): 1:22.551\n",
      "Total elapsed time: 2:53.313\n"
     ]
    }
   ],
   "source": [
    "# Using LDA (Latent Dirichlet Allocation), perform topic modelling for top 250 nouns  and adjectives\n",
    "function_start_time=time.time()\n",
    "\n",
    "vectorizer = CountVectorizer(min_df=1, vocabulary=top_words_nouns_adjectives)\n",
    "X_train_data = vectorizer.fit_transform(RAOP_updated[\"request_title_plus_text\"])\n",
    "print X_train_data.shape\n",
    "\n",
    "lda = LatentDirichletAllocation(n_topics=5, learning_method=\"batch\", max_iter=25, random_state=0)\n",
    "document_topics = lda.fit_transform(X_train_data)\n",
    "print lda.components_.shape\n",
    "\n",
    "sorting = np.argsort(lda.components_, axis=1)[:, ::-1]\n",
    "\n",
    "# Get the feature names from the vectorizer\n",
    "feature_names = np.array(vectorizer.get_feature_names())\n",
    "# Print out the 5 topics:\n",
    "\n",
    "num_topics = 5\n",
    "num_words=len(top_words_nouns_adjectives)/num_topics\n",
    "print_topics(topics=range(5), feature_names=feature_names, sorting=sorting, topics_per_chunk=5, n_words=num_words)\n",
    "\n",
    "topwords = defaultdict(list)\n",
    "temp = []\n",
    "\n",
    "topics =  range(num_topics)\n",
    "for i in range(num_topics): \n",
    "    topwords[topics[i]].append(list(feature_names[sorting[i, 0:num_words]]))\n",
    "\n",
    "printElapsedTime(\"LDA topic modeling\")"
   ]
  },
  {
   "cell_type": "code",
   "execution_count": 23,
   "metadata": {
    "collapsed": false
   },
   "outputs": [
    {
     "name": "stdout",
     "output_type": "stream",
     "text": [
      "\n",
      "Elapsed time (top nouns frequency): 15:53.328\n",
      "Total elapsed time: 18:46.672\n"
     ]
    }
   ],
   "source": [
    "#Get frequency of top nouns for each row for each topic and add them to the data frame: RAOP_updated.\n",
    "function_start_time=time.time()\n",
    "\n",
    "num_topics = 5\n",
    "count_df= []\n",
    "topics = ['topic1','topic2','topic3','topic4','topic5']\n",
    "\n",
    "for i in range(RAOP_updated.shape[0]):\n",
    "    d = {}\n",
    "    for j in range(num_topics):\n",
    "        count = 0\n",
    "        for words in topwords[j]:  \n",
    "            word_regexs = words\n",
    "        request = pd.Series(RAOP_updated[\"request_title_plus_text\"][i])\n",
    "        count= sum(pd.Series((pd.Series(request).str.contains(r).sum() for r in word_regexs), word_regexs, name='count'))\n",
    "        d.update({topics[j]:count})\n",
    "    count_df.append(d)\n",
    "RAOP_updated = pd.concat([RAOP_updated, pd.DataFrame(count_df)], axis='col')\n",
    "RAOP_updated_all = RAOP_updated\n",
    "#print RAOP_updated.head()  \n",
    "printElapsedTime(\"top nouns frequency\")"
   ]
  },
  {
   "cell_type": "code",
   "execution_count": 24,
   "metadata": {
    "collapsed": false
   },
   "outputs": [
    {
     "name": "stdout",
     "output_type": "stream",
     "text": [
      "<class 'pandas.core.frame.DataFrame'>\n",
      "Int64Index: 5671 entries, 0 to 5670\n",
      "Data columns (total 46 columns):\n",
      "giver_username_if_known                                 5671 non-null int64\n",
      "in_test_set                                             5671 non-null bool\n",
      "number_of_downvotes_of_request_at_retrieval             5671 non-null int64\n",
      "number_of_upvotes_of_request_at_retrieval               5671 non-null int64\n",
      "post_was_edited                                         5671 non-null int64\n",
      "request_id                                              5671 non-null object\n",
      "request_number_of_comments_at_retrieval                 5671 non-null int64\n",
      "request_text                                            5671 non-null object\n",
      "request_text_edit_aware                                 5671 non-null object\n",
      "request_title                                           5671 non-null object\n",
      "requester_account_age_in_days_at_request                5671 non-null float64\n",
      "requester_account_age_in_days_at_retrieval              5671 non-null float64\n",
      "requester_days_since_first_post_on_raop_at_request      5671 non-null float64\n",
      "requester_days_since_first_post_on_raop_at_retrieval    5671 non-null float64\n",
      "requester_number_of_comments_at_request                 5671 non-null int64\n",
      "requester_number_of_comments_at_retrieval               5671 non-null int64\n",
      "requester_number_of_comments_in_raop_at_request         5671 non-null int64\n",
      "requester_number_of_comments_in_raop_at_retrieval       5671 non-null int64\n",
      "requester_number_of_posts_at_request                    5671 non-null int64\n",
      "requester_number_of_posts_at_retrieval                  5671 non-null int64\n",
      "requester_number_of_posts_on_raop_at_request            5671 non-null int64\n",
      "requester_number_of_posts_on_raop_at_retrieval          5671 non-null int64\n",
      "requester_number_of_subreddits_at_request               5671 non-null int64\n",
      "requester_received_pizza                                5671 non-null int64\n",
      "requester_subreddits_at_request                         5671 non-null object\n",
      "requester_upvotes_minus_downvotes_at_request            5671 non-null int64\n",
      "requester_upvotes_minus_downvotes_at_retrieval          5671 non-null int64\n",
      "requester_upvotes_plus_downvotes_at_request             5671 non-null int64\n",
      "requester_upvotes_plus_downvotes_at_retrieval           5671 non-null int64\n",
      "requester_user_flair                                    1389 non-null object\n",
      "requester_username                                      5671 non-null object\n",
      "unix_timestamp_of_request                               5671 non-null int64\n",
      "unix_timestamp_of_request_utc                           5671 non-null int64\n",
      "request_text_updated                                    5671 non-null object\n",
      "request_title_updated                                   5671 non-null object\n",
      "request_title_plus_text                                 5671 non-null object\n",
      "request_text_length                                     5671 non-null int64\n",
      "request_title_text_length                               5671 non-null int64\n",
      "image_in_text                                           5671 non-null int64\n",
      "spelling_errors_ratio                                   5671 non-null float64\n",
      "part_of_month_indicator                                 5671 non-null int64\n",
      "topic1                                                  5671 non-null int64\n",
      "topic2                                                  5671 non-null int64\n",
      "topic3                                                  5671 non-null int64\n",
      "topic4                                                  5671 non-null int64\n",
      "topic5                                                  5671 non-null int64\n",
      "dtypes: bool(1), float64(5), int64(30), object(10)\n",
      "memory usage: 2.0+ MB\n"
     ]
    }
   ],
   "source": [
    "RAOP_updated.info()"
   ]
  },
  {
   "cell_type": "markdown",
   "metadata": {},
   "source": [
    "# Topic Modelling per Stanford paper"
   ]
  },
  {
   "cell_type": "code",
   "execution_count": 25,
   "metadata": {
    "collapsed": true
   },
   "outputs": [],
   "source": [
    "# Narratives per Standford paper\n",
    "money = [\"money\", \"now\", \"broke\", \"week\", \"until\", \"time\",\n",
    "          \"last\", \"day\", \"when\", \"today\", \"tonight\", \"paid\", \"next\",\n",
    "          \"first\", \"night\", \"after\", \"tomorrow\", \"month\", \"while\",\n",
    "          \"account\", \"before\", \"long\", \"Friday\", \"rent\", \"buy\",\n",
    "          \"bank\", \"still\", \"bills\", \"ago\", \"cash\", \"due\",\n",
    "          \"soon\", \"past\", \"never\", \"paycheck\", \"check\", \"spent\",\n",
    "          \"years\", \"poor\", \"till\", \"yesterday\", \"morning\", \"dollars\",\n",
    "          \"financial\", \"hour\", \"bill\", \"evening\", \"credit\",\n",
    "          \"budget\", \"loan\", \"bucks\", \"deposit\", \"dollar\", \"current\",\n",
    "          \"payed\"]\n",
    "job =[\"work\", \"job\", \"paycheck\", \"unemployment\", \"interview\",\n",
    "          \"fired\", \"employment\", \"hired\", \"hire\"]\n",
    "student = [\"college\", \"student\", \"school\", \"roommate\",\n",
    "          \"studying\", \"university\", \"finals\", \"semester\",\n",
    "          \"class\", \"study\", \"project\", \"dorm\", \"tuition\"]\n",
    "family =[\"family\", \"mom\", \"wife\", \"parents\", \"mother\", \"husband\",\n",
    "           \"dad\", \"son\", \"daughter\", \"father\", \"parent\",\n",
    "           \"mum\"]\n",
    "craving = [\"friend\", \"girlfriend\", \"craving\", \"birthday\",\n",
    "          \"boyfriend\", \"celebrate\", \"party\", \"game\", \"games\",\n",
    "          \"movie\", \"date\", \"drunk\", \"beer\", \"celebrating\", \"invited\",\n",
    "          \"drinks\", \"crave\", \"wasted\", \"invite\"]\n",
    "\n",
    "narratives = [money, job, student, family, craving]"
   ]
  },
  {
   "cell_type": "code",
   "execution_count": 26,
   "metadata": {
    "collapsed": false
   },
   "outputs": [
    {
     "name": "stdout",
     "output_type": "stream",
     "text": [
      "\n",
      "Elapsed time (top nouns frequency, Stanford narratives): 4:02.236\n",
      "Total elapsed time: 22:49.352\n"
     ]
    }
   ],
   "source": [
    "# Similar to the earlier approach, Get frequency of these top nouns for each row for each narrative and create a new data frame \"narratives\"with them  \n",
    "function_start_time=time.time()\n",
    "\n",
    "num_topics = 5\n",
    "count_df= []\n",
    "topics = ['money','job','student','family','craving']\n",
    "for i in range(RAOP_updated.shape[0]):\n",
    "    d = {}\n",
    "    for j in range(num_topics):\n",
    "        count = 0\n",
    "        #print narratives[j]\n",
    "        request = pd.Series(RAOP_updated[\"request_title_plus_text\"][i])\n",
    "        count= sum(pd.Series((pd.Series(request).str.contains(r).sum() for r in narratives[j]), narratives[j], name='count'))\n",
    "        d.update({topics[j]:count})\n",
    "    count_df.append(d)\n",
    "narratives = pd.DataFrame(count_df)\n",
    "\n",
    "printElapsedTime(\"top nouns frequency, Stanford narratives\")"
   ]
  },
  {
   "cell_type": "code",
   "execution_count": 27,
   "metadata": {
    "collapsed": false
   },
   "outputs": [
    {
     "data": {
      "text/html": [
       "<div>\n",
       "<table border=\"1\" class=\"dataframe\">\n",
       "  <thead>\n",
       "    <tr style=\"text-align: right;\">\n",
       "      <th></th>\n",
       "      <th>craving</th>\n",
       "      <th>family</th>\n",
       "      <th>job</th>\n",
       "      <th>money</th>\n",
       "      <th>student</th>\n",
       "    </tr>\n",
       "  </thead>\n",
       "  <tbody>\n",
       "    <tr>\n",
       "      <th>0</th>\n",
       "      <td>0</td>\n",
       "      <td>0</td>\n",
       "      <td>2</td>\n",
       "      <td>10</td>\n",
       "      <td>1</td>\n",
       "    </tr>\n",
       "    <tr>\n",
       "      <th>1</th>\n",
       "      <td>0</td>\n",
       "      <td>2</td>\n",
       "      <td>0</td>\n",
       "      <td>7</td>\n",
       "      <td>0</td>\n",
       "    </tr>\n",
       "    <tr>\n",
       "      <th>2</th>\n",
       "      <td>0</td>\n",
       "      <td>0</td>\n",
       "      <td>0</td>\n",
       "      <td>8</td>\n",
       "      <td>2</td>\n",
       "    </tr>\n",
       "    <tr>\n",
       "      <th>3</th>\n",
       "      <td>2</td>\n",
       "      <td>0</td>\n",
       "      <td>1</td>\n",
       "      <td>3</td>\n",
       "      <td>1</td>\n",
       "    </tr>\n",
       "    <tr>\n",
       "      <th>4</th>\n",
       "      <td>0</td>\n",
       "      <td>1</td>\n",
       "      <td>0</td>\n",
       "      <td>7</td>\n",
       "      <td>1</td>\n",
       "    </tr>\n",
       "  </tbody>\n",
       "</table>\n",
       "</div>"
      ],
      "text/plain": [
       "   craving  family  job  money  student\n",
       "0        0       0    2     10        1\n",
       "1        0       2    0      7        0\n",
       "2        0       0    0      8        2\n",
       "3        2       0    1      3        1\n",
       "4        0       1    0      7        1"
      ]
     },
     "execution_count": 27,
     "metadata": {},
     "output_type": "execute_result"
    }
   ],
   "source": [
    "narratives.head()"
   ]
  },
  {
   "cell_type": "markdown",
   "metadata": {},
   "source": [
    "# Data Cleanup"
   ]
  },
  {
   "cell_type": "code",
   "execution_count": 28,
   "metadata": {
    "collapsed": false
   },
   "outputs": [
    {
     "name": "stdout",
     "output_type": "stream",
     "text": [
      "Start of Data Cleanup\n"
     ]
    }
   ],
   "source": [
    "print \"Start of Data Cleanup\"\n",
    "# Drop columns: \n",
    "#'request_id'\n",
    "#'requester_username'\n",
    "#'requester_subreddits_at_request'\n",
    "#'requester_user_flair': Per Kaggle instructions\n",
    "#'in_test_set', \n",
    "#'request_text', \n",
    "#'request_text_edit_aware',\n",
    "#'request_title', \n",
    "#'request_text_updated', '\n",
    "#request_text_updated', \n",
    "#'request_title_updated', \n",
    "#'request_title_plus_text', \n",
    "#'request_text_length'\n",
    "#'unix_timestamp_of_request', \n",
    "#'unix_timestamp_of_request_utc'\n",
    "\n",
    "drop_columns = ['request_id', 'requester_username', 'requester_subreddits_at_request', 'requester_user_flair',\n",
    "                'in_test_set','request_text', 'request_text_edit_aware', 'request_title', 'request_text_updated',\n",
    "                'request_title_updated', 'request_title_plus_text', 'request_text_length', 'unix_timestamp_of_request',\n",
    "                'unix_timestamp_of_request_utc']\n",
    "RAOP_updated = RAOP_updated.drop(drop_columns, 1)\n"
   ]
  },
  {
   "cell_type": "code",
   "execution_count": 29,
   "metadata": {
    "collapsed": true
   },
   "outputs": [],
   "source": [
    "# Create a new data frame : RAOP_updated_stanford by dropping topics from RAOP_updated and then adding data frame narratives\n",
    "# Drop columns:  \n",
    "#'unix_timestamp_of_request', \n",
    "#'unix_timestamp_of_request_utc'\n",
    "\n",
    "#RAOP_updated_stanford = RAOP_updated.drop(['topic1', 'topic2', 'topic3', 'topic4', 'topic5'], 1) "
   ]
  },
  {
   "cell_type": "code",
   "execution_count": 30,
   "metadata": {
    "collapsed": true
   },
   "outputs": [],
   "source": [
    "# Append data frame- narratives \n",
    "#RAOP_updated_stanford = pd.concat([RAOP_updated_stanford, narratives], axis='col')\n",
    "RAOP_updated_stanford = pd.concat([RAOP_updated, narratives], axis='col')"
   ]
  },
  {
   "cell_type": "code",
   "execution_count": 31,
   "metadata": {
    "collapsed": false
   },
   "outputs": [
    {
     "name": "stdout",
     "output_type": "stream",
     "text": [
      "\n",
      "col name\n",
      "--- --------------------------------------------\n",
      "  0 \"giver_username_if_known\"\n",
      "  1 \"in_test_set\"\n",
      "  2 \"number_of_downvotes_of_request_at_retrieval\"\n",
      "  3 \"number_of_upvotes_of_request_at_retrieval\"\n",
      "  4 \"post_was_edited\"\n",
      "  5 \"request_id\"\n",
      "  6 \"request_number_of_comments_at_retrieval\"\n",
      "  7 \"request_text\"\n",
      "  8 \"request_text_edit_aware\"\n",
      "  9 \"request_title\"\n",
      " 10 \"requester_account_age_in_days_at_request\"\n",
      " 11 \"requester_account_age_in_days_at_retrieval\"\n",
      " 12 \"requester_days_since_first_post_on_raop_at_request\"\n",
      " 13 \"requester_days_since_first_post_on_raop_at_retrieval\"\n",
      " 14 \"requester_number_of_comments_at_request\"\n",
      " 15 \"requester_number_of_comments_at_retrieval\"\n",
      " 16 \"requester_number_of_comments_in_raop_at_request\"\n",
      " 17 \"requester_number_of_comments_in_raop_at_retrieval\"\n",
      " 18 \"requester_number_of_posts_at_request\"\n",
      " 19 \"requester_number_of_posts_at_retrieval\"\n",
      " 20 \"requester_number_of_posts_on_raop_at_request\"\n",
      " 21 \"requester_number_of_posts_on_raop_at_retrieval\"\n",
      " 22 \"requester_number_of_subreddits_at_request\"\n",
      " 23 \"requester_received_pizza\"\n",
      " 24 \"requester_subreddits_at_request\"\n",
      " 25 \"requester_upvotes_minus_downvotes_at_request\"\n",
      " 26 \"requester_upvotes_minus_downvotes_at_retrieval\"\n",
      " 27 \"requester_upvotes_plus_downvotes_at_request\"\n",
      " 28 \"requester_upvotes_plus_downvotes_at_retrieval\"\n",
      " 29 \"requester_user_flair\"\n",
      " 30 \"requester_username\"\n",
      " 31 \"unix_timestamp_of_request\"\n",
      " 32 \"unix_timestamp_of_request_utc\"\n",
      " 33 \"request_text_updated\"\n",
      " 34 \"request_title_updated\"\n",
      " 35 \"request_title_plus_text\"\n",
      " 36 \"request_text_length\"\n",
      " 37 \"request_title_text_length\"\n",
      " 38 \"image_in_text\"\n",
      " 39 \"spelling_errors_ratio\"\n",
      " 40 \"part_of_month_indicator\"\n",
      " 41 \"topic1\"\n",
      " 42 \"topic2\"\n",
      " 43 \"topic3\"\n",
      " 44 \"topic4\"\n",
      " 45 \"topic5\"\n"
     ]
    }
   ],
   "source": [
    "# Print columns in data frame: RAOP_updated_all\n",
    "printDataframeColumns(RAOP_updated_all)"
   ]
  },
  {
   "cell_type": "code",
   "execution_count": 32,
   "metadata": {
    "collapsed": false
   },
   "outputs": [
    {
     "name": "stdout",
     "output_type": "stream",
     "text": [
      "\n",
      "col name\n",
      "--- --------------------------------------------\n",
      "  0 \"giver_username_if_known\"\n",
      "  1 \"number_of_downvotes_of_request_at_retrieval\"\n",
      "  2 \"number_of_upvotes_of_request_at_retrieval\"\n",
      "  3 \"post_was_edited\"\n",
      "  4 \"request_number_of_comments_at_retrieval\"\n",
      "  5 \"requester_account_age_in_days_at_request\"\n",
      "  6 \"requester_account_age_in_days_at_retrieval\"\n",
      "  7 \"requester_days_since_first_post_on_raop_at_request\"\n",
      "  8 \"requester_days_since_first_post_on_raop_at_retrieval\"\n",
      "  9 \"requester_number_of_comments_at_request\"\n",
      " 10 \"requester_number_of_comments_at_retrieval\"\n",
      " 11 \"requester_number_of_comments_in_raop_at_request\"\n",
      " 12 \"requester_number_of_comments_in_raop_at_retrieval\"\n",
      " 13 \"requester_number_of_posts_at_request\"\n",
      " 14 \"requester_number_of_posts_at_retrieval\"\n",
      " 15 \"requester_number_of_posts_on_raop_at_request\"\n",
      " 16 \"requester_number_of_posts_on_raop_at_retrieval\"\n",
      " 17 \"requester_number_of_subreddits_at_request\"\n",
      " 18 \"requester_received_pizza\"\n",
      " 19 \"requester_upvotes_minus_downvotes_at_request\"\n",
      " 20 \"requester_upvotes_minus_downvotes_at_retrieval\"\n",
      " 21 \"requester_upvotes_plus_downvotes_at_request\"\n",
      " 22 \"requester_upvotes_plus_downvotes_at_retrieval\"\n",
      " 23 \"request_title_text_length\"\n",
      " 24 \"image_in_text\"\n",
      " 25 \"spelling_errors_ratio\"\n",
      " 26 \"part_of_month_indicator\"\n",
      " 27 \"topic1\"\n",
      " 28 \"topic2\"\n",
      " 29 \"topic3\"\n",
      " 30 \"topic4\"\n",
      " 31 \"topic5\"\n"
     ]
    }
   ],
   "source": [
    "# Print columns in data frame: RAOP_updated\n",
    "printDataframeColumns(RAOP_updated)"
   ]
  },
  {
   "cell_type": "code",
   "execution_count": 33,
   "metadata": {
    "collapsed": false
   },
   "outputs": [
    {
     "name": "stdout",
     "output_type": "stream",
     "text": [
      "\n",
      "col name\n",
      "--- --------------------------------------------\n",
      "  0 \"giver_username_if_known\"\n",
      "  1 \"number_of_downvotes_of_request_at_retrieval\"\n",
      "  2 \"number_of_upvotes_of_request_at_retrieval\"\n",
      "  3 \"post_was_edited\"\n",
      "  4 \"request_number_of_comments_at_retrieval\"\n",
      "  5 \"requester_account_age_in_days_at_request\"\n",
      "  6 \"requester_account_age_in_days_at_retrieval\"\n",
      "  7 \"requester_days_since_first_post_on_raop_at_request\"\n",
      "  8 \"requester_days_since_first_post_on_raop_at_retrieval\"\n",
      "  9 \"requester_number_of_comments_at_request\"\n",
      " 10 \"requester_number_of_comments_at_retrieval\"\n",
      " 11 \"requester_number_of_comments_in_raop_at_request\"\n",
      " 12 \"requester_number_of_comments_in_raop_at_retrieval\"\n",
      " 13 \"requester_number_of_posts_at_request\"\n",
      " 14 \"requester_number_of_posts_at_retrieval\"\n",
      " 15 \"requester_number_of_posts_on_raop_at_request\"\n",
      " 16 \"requester_number_of_posts_on_raop_at_retrieval\"\n",
      " 17 \"requester_number_of_subreddits_at_request\"\n",
      " 18 \"requester_received_pizza\"\n",
      " 19 \"requester_upvotes_minus_downvotes_at_request\"\n",
      " 20 \"requester_upvotes_minus_downvotes_at_retrieval\"\n",
      " 21 \"requester_upvotes_plus_downvotes_at_request\"\n",
      " 22 \"requester_upvotes_plus_downvotes_at_retrieval\"\n",
      " 23 \"request_title_text_length\"\n",
      " 24 \"image_in_text\"\n",
      " 25 \"spelling_errors_ratio\"\n",
      " 26 \"part_of_month_indicator\"\n",
      " 27 \"topic1\"\n",
      " 28 \"topic2\"\n",
      " 29 \"topic3\"\n",
      " 30 \"topic4\"\n",
      " 31 \"topic5\"\n",
      " 32 \"craving\"\n",
      " 33 \"family\"\n",
      " 34 \"job\"\n",
      " 35 \"money\"\n",
      " 36 \"student\"\n"
     ]
    }
   ],
   "source": [
    "# Print columns in data frame: RAOP_updated_stanford\n",
    "printDataframeColumns(RAOP_updated_stanford)"
   ]
  },
  {
   "cell_type": "code",
   "execution_count": 34,
   "metadata": {
    "collapsed": false
   },
   "outputs": [],
   "source": [
    "# Check data type\n",
    "#RAOP_updated.info()"
   ]
  },
  {
   "cell_type": "code",
   "execution_count": 35,
   "metadata": {
    "collapsed": false
   },
   "outputs": [],
   "source": [
    "# Check data type\n",
    "#RAOP_updated_stanford.info()"
   ]
  },
  {
   "cell_type": "code",
   "execution_count": 36,
   "metadata": {
    "collapsed": false
   },
   "outputs": [
    {
     "name": "stdout",
     "output_type": "stream",
     "text": [
      "4282\n",
      "0\n",
      "0\n"
     ]
    }
   ],
   "source": [
    "#Check to see if any column contains Nan or null values\n",
    "print RAOP_updated_all.isnull().sum().sum()\n",
    "print RAOP_updated.isnull().sum().sum()\n",
    "print RAOP_updated_stanford.isnull().sum().sum()"
   ]
  },
  {
   "cell_type": "markdown",
   "metadata": {},
   "source": [
    "# Train & Test Data Split and Data Standardization"
   ]
  },
  {
   "cell_type": "code",
   "execution_count": 37,
   "metadata": {
    "collapsed": false
   },
   "outputs": [
    {
     "name": "stdout",
     "output_type": "stream",
     "text": [
      "train data shape: (4040, 31)\n",
      "test data shape: (1631, 31)\n",
      "train data shape, Stanford: (4040, 36)\n",
      "test data shape, Stanford: (1631, 36)\n"
     ]
    }
   ],
   "source": [
    "np.random.seed(0)\n",
    "def randomizeDataArrays():\n",
    "    # create randomized arrays for test, dev and train\n",
    "    X = RAOP_updated.values\n",
    "    X_sd = RAOP_updated_stanford.values\n",
    "\n",
    "    global raop_test, raop_train\n",
    "    global raop_test_sd, raop_train_sd\n",
    "    global raop_test_labels,raop_train_labels\n",
    "    global raop_test_labels_sd,raop_train_labels_sd\n",
    "    global Xtr_s, Xte_s, Xtr_r, Xte_r\n",
    "    global Xtr_s_sd, Xte_s_sd, Xtr_r_sd, Xte_r_sd\n",
    "      \n",
    "    raop_test = X[4040:]\n",
    "    raop_train = X[:4040]\n",
    "    raop_test_sd = X_sd[4040:]\n",
    "    raop_train_sd = X_sd[:4040]\n",
    "     \n",
    "    raop_test_labels = np.array(raop_test[:,18], dtype=int)\n",
    "    raop_train_labels = np.array(raop_train[:,18], dtype=int)\n",
    "    raop_test_labels_sd = np.array(raop_test_sd[:,18], dtype=int)\n",
    "    raop_train_labels_sd = np.array(raop_train_sd[:,18], dtype=int)\n",
    "    \n",
    "    raop_test = np.delete(raop_test , [18], axis=1)\n",
    "    raop_train = np.delete(raop_train, [18], axis=1)   \n",
    "    raop_test_sd = np.delete(raop_test_sd , [18], axis=1)\n",
    "    raop_train_sd = np.delete(raop_train_sd, [18], axis=1)\n",
    "    \n",
    "    # Scale data\n",
    "    # Standard Scaler\n",
    "    standard_scaler = preprocessing.StandardScaler()\n",
    "    Xtr_s = standard_scaler.fit_transform(raop_train)\n",
    "    Xte_s = standard_scaler.transform(raop_test)\n",
    "    Xtr_s_sd = standard_scaler.fit_transform(raop_train_sd)\n",
    "    Xte_s_sd = standard_scaler.transform(raop_test_sd)\n",
    "    \n",
    "    # Robust Scaler\n",
    "    robust_scaler = preprocessing.RobustScaler()\n",
    "    Xtr_r = robust_scaler.fit_transform(raop_train)\n",
    "    Xte_r = robust_scaler.transform(raop_test)\n",
    "    Xtr_r_sd = robust_scaler.fit_transform(raop_train_sd)\n",
    "    Xte_r_sd = robust_scaler.transform(raop_test_sd)\n",
    "    \n",
    "\n",
    "# split out test, train data from the dataframe\n",
    "randomizeDataArrays()    \n",
    "print \"train data shape:\", raop_train.shape\n",
    "print \"test data shape:\", raop_test.shape\n",
    "print \"train data shape, Stanford:\", raop_train_sd.shape\n",
    "print \"test data shape, Stanford:\", raop_test_sd.shape\n",
    "classifierInfo_list = []"
   ]
  },
  {
   "cell_type": "markdown",
   "metadata": {},
   "source": [
    "# Classifier-Encapsulating Functions"
   ]
  },
  {
   "cell_type": "code",
   "execution_count": 38,
   "metadata": {
    "collapsed": false
   },
   "outputs": [],
   "source": [
    "def logisticRegression(x_train, y_train, x_test, y_test, print_string, note):\n",
    "    # Logistic Regression using sklearn\n",
    "    global function_start_time\n",
    "    function_start_time=time.time()\n",
    "\n",
    "    logreg = LogisticRegression(C=100).fit(x_train, y_train)\n",
    "    logreg_predict = logreg.predict(x_test)\n",
    "\n",
    "    accuracy = logreg.score(x_test, y_test)*100.0\n",
    "    c = classifierInfo(logreg, accuracy)\n",
    "    c.note = note\n",
    "    classifierInfo_list.append( c )\n",
    "\n",
    "    print(\"Training set score: {:.3f}%\".format(logreg.score(x_train, y_train)*100.0))\n",
    "    print(\"Test set score: {:.3f}%\\n\".format(logreg.score(x_test, y_test)*100.0))\n",
    "    print(\"Logistic Regression coefficients: {:s}\".format(logreg.coef_))\n",
    "\n",
    "    printElapsedTime(print_string)\n"
   ]
  },
  {
   "cell_type": "code",
   "execution_count": 39,
   "metadata": {
    "collapsed": false
   },
   "outputs": [],
   "source": [
    "# Random Forest Classifier\n",
    "def randomForestClassifier(x_train, y_train, x_test, y_test, print_str):\n",
    "    global function_start_time\n",
    "    function_start_time=time.time()\n",
    "\n",
    "    parameters = { \n",
    "        'n_estimators' : [1000, 2000, 3000],\n",
    "        'max_leaf_nodes' : [24, 32, 40],\n",
    "        'criterion' : ['gini', 'entropy']\n",
    "    }\n",
    "\n",
    "    # perform a gridsearch for the parameter values\n",
    "    rnd_clf = GridSearchCV(RandomForestClassifier(n_jobs=-1), parameters)\n",
    "    rnd_clf.fit(x_train, y_train)\n",
    "    \n",
    "    n_estimators = rnd_clf.best_params_['n_estimators']\n",
    "    max_leaf_nodes = rnd_clf.best_params_['max_leaf_nodes']\n",
    "    criterion = rnd_clf.best_params_['criterion']\n",
    "\n",
    "    # add classifier and score to classifierInfo_list\n",
    "    clf = RandomForestClassifier(n_jobs=-1, n_estimators=n_estimators, max_leaf_nodes=max_leaf_nodes, criterion=criterion)\n",
    "    clf.fit(x_train, y_train)\n",
    "    \n",
    "    y_pred = clf.predict(x_test)\n",
    "    accuracy = accuracy_score(y_test, y_pred)*100.0\n",
    "    c = classifierInfo(clf, accuracy)\n",
    "    c.note = 'n_estimators = %d, max_leaf_nodes = %d, criterion = %s' % ( n_estimators, max_leaf_nodes, criterion )\n",
    "    classifierInfo_list.append( c )\n",
    "\n",
    "    print 'Accuracy: {:2.5f}%'.format(accuracy)\n",
    "    printElapsedTime(print_str)\n",
    "    return y_pred\n"
   ]
  },
  {
   "cell_type": "code",
   "execution_count": 40,
   "metadata": {
    "collapsed": false
   },
   "outputs": [],
   "source": [
    "# Bagging Classifier\n",
    "def baggingClassifier(x_train, y_train, x_test, y_test, print_str):\n",
    "    global function_start_time\n",
    "    function_start_time=time.time()\n",
    "    parameters = { \n",
    "        'n_estimators' : [500, 1000],\n",
    "        'max_samples' : [50, 100, 150, 200, 250]\n",
    "    }\n",
    "    '''parameters = { \n",
    "        'n_estimators' : [500, 1000, 2000, 3000, 4000],\n",
    "        'max_samples' : [100, 150, 200, 250]\n",
    "    }'''\n",
    "    # perform a gridsearch for the parameter values\n",
    "    bag_clf = GridSearchCV(BaggingClassifier(DecisionTreeClassifier(),bootstrap=True, n_jobs=-1), parameters)\n",
    "    bag_clf.fit(x_train, y_train)\n",
    "    \n",
    "    n_estimators = bag_clf.best_params_['n_estimators']\n",
    "    max_samples = bag_clf.best_params_['max_samples']\n",
    "\n",
    "    # add classifier and score to classifierInfo_list\n",
    "    clf = BaggingClassifier(DecisionTreeClassifier(), bootstrap=True, n_estimators=n_estimators, max_samples=max_samples, n_jobs=-1)\n",
    "    clf.fit(x_train, y_train)\n",
    "    \n",
    "    y_pred = clf.predict(x_test)\n",
    "    accuracy = accuracy_score(y_test, y_pred)*100.0\n",
    "    \n",
    "    c = classifierInfo(clf, accuracy )\n",
    "    c.note = 'n_estimators = %d, max_samples = %d' % (n_estimators, max_samples)\n",
    "    classifierInfo_list.append( c )\n",
    "    \n",
    "    print 'Accuracy: {:2.5f}%'.format(accuracy)\n",
    "    printElapsedTime(print_str)\n",
    "    \n"
   ]
  },
  {
   "cell_type": "code",
   "execution_count": 41,
   "metadata": {
    "collapsed": false
   },
   "outputs": [],
   "source": [
    "# Extra Trees Classifier\n",
    "def extraTreesClassifier(x_train, y_train, x_test, y_test, print_str):\n",
    "    global function_start_time\n",
    "    function_start_time=time.time()\n",
    "\n",
    "    parameters = { \n",
    "        'n_estimators' : [1000, 2000, 3000],\n",
    "        'max_leaf_nodes' : [24, 32, 40],\n",
    "        'criterion' : ['gini', 'entropy']\n",
    "    }\n",
    "\n",
    "    # perform a gridsearch for the parameter values\n",
    "    rnd_clf = GridSearchCV(ExtraTreesClassifier(n_jobs=-1), parameters)\n",
    "    rnd_clf.fit(x_train, y_train)\n",
    "    \n",
    "    n_estimators = rnd_clf.best_params_['n_estimators']\n",
    "    max_leaf_nodes = rnd_clf.best_params_['max_leaf_nodes']\n",
    "    criterion = rnd_clf.best_params_['criterion']\n",
    "\n",
    "    # add classifier and score to classifierInfo_list\n",
    "    clf = ExtraTreesClassifier(n_jobs=-1, n_estimators=n_estimators, max_leaf_nodes=max_leaf_nodes, criterion=criterion)\n",
    "    clf.fit(x_train, y_train)\n",
    "    \n",
    "    y_pred = clf.predict(x_test)\n",
    "    accuracy = accuracy_score(y_test, y_pred)*100.0\n",
    "    \n",
    "    c = classifierInfo(clf, accuracy) \n",
    "    c.note = 'n_estimators = %d, max_leaf_nodes = %d, criterion = \"%s\"' % (n_estimators, max_leaf_nodes, criterion)\n",
    "    classifierInfo_list.append( c )\n",
    "\n",
    "    print 'Accuracy: {:2.5f}%'.format(accuracy)\n",
    "    printElapsedTime(print_str)\n"
   ]
  },
  {
   "cell_type": "code",
   "execution_count": 42,
   "metadata": {
    "collapsed": false
   },
   "outputs": [],
   "source": [
    "# Voting Classifier with LogisticRegression, RandomForestClassifier and SVM\n",
    "def votingClassifier(x_train, y_train, x_test, y_test, print_str):\n",
    "    global function_start_time\n",
    "    function_start_time=time.time()\n",
    "\n",
    "    log_clf = LogisticRegression()\n",
    "    rnd_clf = RandomForestClassifier()\n",
    "    svm_clf = SVC()\n",
    "    voting_clf = VotingClassifier(\n",
    "    estimators=[('lr', log_clf), ('rf', rnd_clf), ('svc', svm_clf)],\n",
    "    voting='hard'\n",
    "    )\n",
    "    voting_clf.fit(x_train, y_train)\n",
    "\n",
    "    accuracy=0.0\n",
    "    for clf in (log_clf, rnd_clf, svm_clf, voting_clf):\n",
    "        clf.fit(x_train, y_train)\n",
    "        y_pred = clf.predict(x_test)\n",
    "        accuracy = accuracy_score(y_test, y_pred)*100.0\n",
    "        print '{:s}, {:.3f}%'.format(clf.__class__.__name__, accuracy)\n",
    "\n",
    "    # do NOT add classifier to classifierInfo_list    \n",
    "    printElapsedTime(\"VotingClassifier\")\n",
    "    "
   ]
  },
  {
   "cell_type": "code",
   "execution_count": 43,
   "metadata": {
    "collapsed": false
   },
   "outputs": [],
   "source": [
    "# Ada Boost Classifier\n",
    "def adaBoostClassifier(x_train, y_train, x_test, y_test, print_str):\n",
    "    global function_start_time\n",
    "    function_start_time=time.time()\n",
    "    ada_clf = AdaBoostClassifier(\n",
    "        DecisionTreeClassifier(max_depth=1), n_estimators=500,\n",
    "        algorithm=\"SAMME.R\", learning_rate=0.05\n",
    "    )\n",
    "    ada_clf.fit(x_train, y_train)\n",
    "    y_pred_ada = ada_clf.predict(x_test)\n",
    "    accuracy = accuracy_score(y_test, y_pred_ada)*100.0\n",
    "\n",
    "    # add classifier and score to classifierInfo_list\n",
    "    classifierInfo_list.append( classifierInfo( ada_clf, accuracy) )\n",
    "\n",
    "    print 'Accuracy: {:2.5f}%'.format(accuracy)\n",
    "    printElapsedTime(\"AdaBoostClassifier\")\n"
   ]
  },
  {
   "cell_type": "code",
   "execution_count": 44,
   "metadata": {
    "collapsed": false
   },
   "outputs": [],
   "source": [
    "# GradientBoostingClassifier\n",
    "def gradientBoostingClassifier(x_train, y_train, x_test, y_test, print_str):\n",
    "    global function_start_time\n",
    "    function_start_time=time.time()\n",
    "\n",
    "    gb_clf = GradientBoostingClassifier(learning_rate=0.05, subsample=0.5, max_depth=6, n_estimators=50)\n",
    "    gb_clf.fit(x_train, y_train)\n",
    "    y_pred = gb_clf.predict(x_test)\n",
    "    accuracy = accuracy_score(y_test, y_pred)*100.0\n",
    "\n",
    "    # add classifier and score to classifierInfo_list\n",
    "    classifierInfo_list.append( classifierInfo( gb_clf, accuracy) )\n",
    "\n",
    "    print 'Accuracy: {:2.5f}%'.format(accuracy)\n",
    "    printElapsedTime(print_str)\n"
   ]
  },
  {
   "cell_type": "code",
   "execution_count": 45,
   "metadata": {
    "collapsed": false
   },
   "outputs": [],
   "source": [
    "# SVC Classifier\n",
    "def svcClassifier(x_train, y_train, x_test, y_test, print_str):\n",
    "    global function_start_time\n",
    "    function_start_time=time.time()\n",
    "    \n",
    "    svc_clf = SVC( probability=True )\n",
    "    svc_clf.fit(x_train, y_train)\n",
    "    \n",
    "    # add classifier and score to classifierInfo_list\n",
    "    y_pred = svc_clf.predict(x_test)\n",
    "    accuracy = accuracy_score(y_test, y_pred)*100.0    \n",
    "    classifierInfo_list.append( classifierInfo(svc_clf, accuracy) )\n",
    "\n",
    "    print 'Accuracy: {:2.5f}%'.format(accuracy)\n",
    "    printElapsedTime(print_str)\n",
    "    "
   ]
  },
  {
   "cell_type": "code",
   "execution_count": 46,
   "metadata": {
    "collapsed": false
   },
   "outputs": [],
   "source": [
    "# KNeighborsClassifier\n",
    "def kNeighborsClassifier(x_train, y_train, x_test, y_test, print_str):\n",
    "    global function_start_time\n",
    "    function_start_time=time.time()\n",
    "    parameters = {'n_neighbors' : [1,2,3] }\n",
    "    \n",
    "    # perform a gridsearch for the best n_neighbor value\n",
    "    knn_clf = GridSearchCV(KNeighborsClassifier(), parameters)\n",
    "    knn_clf.fit(x_train, y_train)\n",
    "    \n",
    "    n_neighbors = knn_clf.best_params_['n_neighbors']\n",
    "   \n",
    "    # add classifier and score to classifierInfo_list\n",
    "    clf = KNeighborsClassifier(n_neighbors=n_neighbors)\n",
    "    clf.fit(x_train, y_train)\n",
    "    \n",
    "    y_pred = clf.predict(x_test)\n",
    "    accuracy = accuracy_score(y_test, y_pred)*100.0\n",
    "    \n",
    "    c = classifierInfo(clf, accuracy)\n",
    "    c.note = 'n_neighbors = %d' % n_neighbors\n",
    "    classifierInfo_list.append( c )\n",
    "\n",
    "    print 'Accuracy: {:2.5f}%'.format(accuracy)\n",
    "    printElapsedTime(print_str)\n"
   ]
  },
  {
   "cell_type": "markdown",
   "metadata": {},
   "source": [
    "# Machine Learning"
   ]
  },
  {
   "cell_type": "code",
   "execution_count": 47,
   "metadata": {
    "collapsed": false,
    "scrolled": true
   },
   "outputs": [
    {
     "name": "stdout",
     "output_type": "stream",
     "text": [
      "                            OLS Regression Results                            \n",
      "==============================================================================\n",
      "Dep. Variable:                      y   R-squared:                       0.398\n",
      "Model:                            OLS   Adj. R-squared:                  0.393\n",
      "Method:                 Least Squares   F-statistic:                     85.41\n",
      "Date:                Sun, 11 Dec 2016   Prob (F-statistic):               0.00\n",
      "Time:                        16:10:29   Log-Likelihood:                -1305.0\n",
      "No. Observations:                4040   AIC:                             2674.\n",
      "Df Residuals:                    4008   BIC:                             2876.\n",
      "Df Model:                          31                                         \n",
      "Covariance Type:            nonrobust                                         \n",
      "==============================================================================\n",
      "                 coef    std err          t      P>|t|      [95.0% Conf. Int.]\n",
      "------------------------------------------------------------------------------\n",
      "const          0.2460      0.005     46.604      0.000         0.236     0.256\n",
      "x1             0.1205      0.007     18.422      0.000         0.108     0.133\n",
      "x2            -0.0215      0.007     -2.915      0.004        -0.036    -0.007\n",
      "x3            -0.0099      0.008     -1.264      0.206        -0.025     0.005\n",
      "x4             0.0133      0.005      2.426      0.015         0.003     0.024\n",
      "x5             0.0894      0.007     13.545      0.000         0.076     0.102\n",
      "x6            -0.4190      0.160     -2.624      0.009        -0.732    -0.106\n",
      "x7             0.4756      0.175      2.714      0.007         0.132     0.819\n",
      "x8             0.1207      0.038      3.217      0.001         0.047     0.194\n",
      "x9            -0.3459      0.140     -2.465      0.014        -0.621    -0.071\n",
      "x10           -0.0050      0.011     -0.469      0.639        -0.026     0.016\n",
      "x11            0.0132      0.010      1.322      0.186        -0.006     0.033\n",
      "x12            0.0055      0.008      0.666      0.505        -0.011     0.022\n",
      "x13            0.0297      0.008      3.768      0.000         0.014     0.045\n",
      "x14            0.0094      0.014      0.664      0.507        -0.018     0.037\n",
      "x15           -0.0374      0.015     -2.521      0.012        -0.066    -0.008\n",
      "x16           -0.0441      0.008     -5.563      0.000        -0.060    -0.029\n",
      "x17            0.1460      0.008     17.228      0.000         0.129     0.163\n",
      "x18            0.0137      0.010      1.349      0.177        -0.006     0.034\n",
      "x19           -0.0334      0.027     -1.231      0.218        -0.086     0.020\n",
      "x20            0.0502      0.023      2.156      0.031         0.005     0.096\n",
      "x21            0.0157      0.031      0.504      0.614        -0.046     0.077\n",
      "x22           -0.0150      0.029     -0.513      0.608        -0.072     0.042\n",
      "x23           -0.0207      0.011     -1.905      0.057        -0.042     0.001\n",
      "x24            0.0185      0.006      3.195      0.001         0.007     0.030\n",
      "x25           -0.0052      0.006     -0.889      0.374        -0.017     0.006\n",
      "x26           -0.0040      0.005     -0.750      0.453        -0.014     0.006\n",
      "x27           -0.0023      0.014     -0.166      0.868        -0.030     0.025\n",
      "x28           -0.0374      0.013     -2.987      0.003        -0.062    -0.013\n",
      "x29            0.0181      0.014      1.251      0.211        -0.010     0.046\n",
      "x30            0.0039      0.017      0.231      0.818        -0.029     0.037\n",
      "x31            0.0674      0.013      5.362      0.000         0.043     0.092\n",
      "==============================================================================\n",
      "Omnibus:                      802.765   Durbin-Watson:                   0.816\n",
      "Prob(Omnibus):                  0.000   Jarque-Bera (JB):             1392.696\n",
      "Skew:                           1.292   Prob(JB):                    3.80e-303\n",
      "Kurtosis:                       4.262   Cond. No.                         124.\n",
      "==============================================================================\n",
      "\n",
      "Warnings:\n",
      "[1] Standard Errors assume that the covariance matrix of the errors is correctly specified.\n",
      "[  0.00000000e+00   8.19570560e-73   3.57545571e-03   2.06327873e-01\n",
      "   1.52941396e-02   6.67934785e-41   8.73101512e-03   6.67410157e-03\n",
      "   1.30432522e-03   1.37290512e-02   6.39269702e-01   1.86192973e-01\n",
      "   5.05402953e-01   1.66716017e-04   5.06680145e-01   1.17358503e-02\n",
      "   2.82888412e-08   3.21798553e-64   1.77475780e-01   2.18464117e-01\n",
      "   3.11808584e-02   6.14357844e-01   6.07977914e-01   5.68576620e-02\n",
      "   1.41111951e-03   3.73987687e-01   4.53098640e-01   8.68204126e-01\n",
      "   2.83430063e-03   2.10999553e-01   8.17537420e-01   8.67577921e-08]\n"
     ]
    }
   ],
   "source": [
    "#Logistic Regression using Stat Models\n",
    "# p-values are in column P>|t|\n",
    "Xtr_s_lr = sm.add_constant( Xtr_s)\n",
    "mod = sm.OLS(raop_train_labels, Xtr_s_lr )\n",
    "res = mod.fit()\n",
    "print(res.summary())\n",
    "print(res.pvalues)"
   ]
  },
  {
   "cell_type": "code",
   "execution_count": 48,
   "metadata": {
    "collapsed": false
   },
   "outputs": [
    {
     "name": "stdout",
     "output_type": "stream",
     "text": [
      "Training set score: 85.470%\n",
      "Test set score: 84.488%\n",
      "\n",
      "Logistic Regression coefficients: [[ 2.52495405 -0.23735597  0.05150663  0.12348856  0.5446308  -2.51597482\n",
      "   2.90543078  0.73340909 -1.97033437 -0.02876628  0.08353251 -0.09062497\n",
      "   0.44857982  0.0098708  -0.30507604 -0.29985218  1.07132468  0.13903982\n",
      "  -0.23481697  0.41678619 -0.02660739 -0.00839458 -0.20060545  0.14668133\n",
      "  -0.06616547 -0.03687129 -0.0518025  -0.32734292  0.21112799  0.0299691\n",
      "   0.56507478]]\n",
      "\n",
      "Elapsed time (LogisticRegression Classification): 0:00.087\n",
      "Total elapsed time: 22:50.850\n"
     ]
    }
   ],
   "source": [
    "# Logistic Regression\n",
    "logisticRegression(Xtr_s, raop_train_labels, Xte_s, raop_test_labels, 'LogisticRegression Classification', '')"
   ]
  },
  {
   "cell_type": "code",
   "execution_count": 49,
   "metadata": {
    "collapsed": false
   },
   "outputs": [
    {
     "name": "stdout",
     "output_type": "stream",
     "text": [
      "Training set score: 71.683%\n",
      "Test set score: 72.103%\n",
      "\n",
      "Logistic Regression coefficients: [[  3.49160624e-18  -2.86467815e-18  -7.32584251e-19  -5.49753603e-10\n",
      "    3.31434598e-18  -4.32090398e-18   3.95426958e-18  -8.64443194e-17\n",
      "    3.03792830e-18  -1.29389270e-17  -5.35301768e-18   3.64914008e-18\n",
      "    1.18722020e-17  -1.53235902e-17  -1.11752396e-17   3.60428352e-19\n",
      "    5.90877970e-18  -4.84357987e-18  -1.51051066e-17  -8.09752698e-18\n",
      "   -2.16818524e-17  -1.12526982e-17  -1.34132981e-18  -2.39447706e-19\n",
      "   -5.23909609e-18   1.03758920e-17   3.14592259e-18   2.14184384e-18\n",
      "    1.51584516e-18   1.93031388e-18   3.17434895e-18]]\n",
      "\n",
      "Elapsed time (LogisticRegression Classification, Robust Scaling): 0:00.007\n",
      "Total elapsed time: 22:50.862\n"
     ]
    }
   ],
   "source": [
    "# Logistic Regression with Robust Scaling\n",
    "logisticRegression(Xtr_r, raop_train_labels, Xte_r, raop_test_labels, 'LogisticRegression Classification, Robust Scaling', 'Robust Scaling')"
   ]
  },
  {
   "cell_type": "code",
   "execution_count": 50,
   "metadata": {
    "collapsed": false
   },
   "outputs": [
    {
     "name": "stdout",
     "output_type": "stream",
     "text": [
      "Accuracy: 85.10116%\n",
      "\n",
      "Elapsed time (RandomForestClassifier): 7:12.761\n",
      "Total elapsed time: 30:03.629\n"
     ]
    }
   ],
   "source": [
    "# Random Forest Classifier\n",
    "y_pred_rf = randomForestClassifier(Xtr_s, raop_train_labels, Xte_s, raop_test_labels, 'RandomForestClassifier')"
   ]
  },
  {
   "cell_type": "code",
   "execution_count": 51,
   "metadata": {
    "collapsed": false
   },
   "outputs": [
    {
     "name": "stdout",
     "output_type": "stream",
     "text": [
      "Accuracy: 85.28510%\n",
      "\n",
      "Elapsed time (BaggingClassifier): 1:02.733\n",
      "Total elapsed time: 31:06.400\n"
     ]
    }
   ],
   "source": [
    "# Bagging Classifier\n",
    "baggingClassifier(Xtr_s, raop_train_labels, Xte_s, raop_test_labels, 'BaggingClassifier')"
   ]
  },
  {
   "cell_type": "code",
   "execution_count": 52,
   "metadata": {
    "collapsed": false
   },
   "outputs": [
    {
     "name": "stdout",
     "output_type": "stream",
     "text": [
      "Accuracy: 82.83262%\n",
      "\n",
      "Elapsed time (RandomForestClassifier): 6:33.998\n",
      "Total elapsed time: 37:40.438\n"
     ]
    }
   ],
   "source": [
    "# Extra Trees Classifier\n",
    "extraTreesClassifier(Xtr_s, raop_train_labels, Xte_s, raop_test_labels, 'RandomForestClassifier')"
   ]
  },
  {
   "cell_type": "code",
   "execution_count": 53,
   "metadata": {
    "collapsed": false
   },
   "outputs": [
    {
     "name": "stdout",
     "output_type": "stream",
     "text": [
      "LogisticRegression, 84.304%\n",
      "RandomForestClassifier, 84.120%\n",
      "SVC, 84.120%\n",
      "VotingClassifier, 84.304%\n",
      "\n",
      "Elapsed time (VotingClassifier): 0:02.076\n",
      "Total elapsed time: 37:42.547\n"
     ]
    }
   ],
   "source": [
    "# Voting Classifier with LogisticRegression, RandomForestClassifier and SVM\n",
    "votingClassifier(Xtr_s, raop_train_labels, Xte_s, raop_test_labels, 'VotingClassifier')"
   ]
  },
  {
   "cell_type": "code",
   "execution_count": 54,
   "metadata": {
    "collapsed": false
   },
   "outputs": [
    {
     "name": "stdout",
     "output_type": "stream",
     "text": [
      "Accuracy: 85.53035%\n",
      "\n",
      "Elapsed time (AdaBoostClassifier): 0:04.380\n",
      "Total elapsed time: 37:46.941\n"
     ]
    }
   ],
   "source": [
    "# Ada Boost Classifier\n",
    "adaBoostClassifier(Xtr_s, raop_train_labels, Xte_s, raop_test_labels, 'AdaBoostClassifier')"
   ]
  },
  {
   "cell_type": "code",
   "execution_count": 55,
   "metadata": {
    "collapsed": false
   },
   "outputs": [
    {
     "name": "stdout",
     "output_type": "stream",
     "text": [
      "Accuracy: 85.46904%\n",
      "\n",
      "Elapsed time (GradientBoostingClassifier): 0:00.834\n",
      "Total elapsed time: 37:47.785\n"
     ]
    }
   ],
   "source": [
    "# GradientBoostingClassifier\n",
    "gradientBoostingClassifier(Xtr_s, raop_train_labels, Xte_s, raop_test_labels, 'GradientBoostingClassifier')"
   ]
  },
  {
   "cell_type": "code",
   "execution_count": 56,
   "metadata": {
    "collapsed": false
   },
   "outputs": [
    {
     "name": "stdout",
     "output_type": "stream",
     "text": [
      "Accuracy: 84.12017%\n",
      "\n",
      "Elapsed time (SVC Classifier): 0:02.393\n",
      "Total elapsed time: 37:50.184\n"
     ]
    }
   ],
   "source": [
    "# SVC Classifier\n",
    "svcClassifier(Xtr_s, raop_train_labels, Xte_s, raop_test_labels, 'SVC Classifier')"
   ]
  },
  {
   "cell_type": "code",
   "execution_count": 57,
   "metadata": {
    "collapsed": false
   },
   "outputs": [
    {
     "name": "stdout",
     "output_type": "stream",
     "text": [
      "Accuracy: 81.11588%\n",
      "\n",
      "Elapsed time (KNeighborsClassifier): 0:01.945\n",
      "Total elapsed time: 37:52.134\n"
     ]
    }
   ],
   "source": [
    "# KNeighborsClassifier\n",
    "kNeighborsClassifier(Xtr_s, raop_train_labels, Xte_s, raop_test_labels, 'KNeighborsClassifier')"
   ]
  },
  {
   "cell_type": "markdown",
   "metadata": {
    "collapsed": false
   },
   "source": [
    "## ROC Curves"
   ]
  },
  {
   "cell_type": "code",
   "execution_count": 85,
   "metadata": {
    "collapsed": false
   },
   "outputs": [
    {
     "data": {
      "image/png": "[encoded data removed]",
      "text/plain": [
       "<matplotlib.figure.Figure at 0x132dc54d0>"
      ]
     },
     "metadata": {},
     "output_type": "display_data"
    }
   ],
   "source": [
    "ada_clf = AdaBoostClassifier(\n",
    "DecisionTreeClassifier(max_depth=1), n_estimators=500,\n",
    "algorithm=\"SAMME.R\", learning_rate=0.05\n",
    ")\n",
    "ada_clf.fit(Xtr_r, raop_train_labels)\n",
    "\n",
    "\n",
    "y_scores = ada_clf.decision_function(Xte_s)\n",
    "fpr, tpr, thresholds = roc_curve(raop_test_labels, y_scores)\n",
    "plt.plot(fpr, tpr, linewidth=2)\n",
    "plt.plot([0,1], [0,1], 'k--')\n",
    "plt.axis([0,1,0,1])\n",
    "plt.xlabel('False Positive Rate')\n",
    "plt.ylabel('True Positive Rate')\n",
    "plt.figtext(.5, .92, 'roc_auc_score: %f'% roc_auc_score(raop_test_labels, y_scores), fontsize=18, ha='center')\n",
    "plt.show();"
   ]
  },
  {
   "cell_type": "markdown",
   "metadata": {},
   "source": [
    "## Visualization"
   ]
  },
  {
   "cell_type": "code",
   "execution_count": 59,
   "metadata": {
    "collapsed": false
   },
   "outputs": [
    {
     "data": {
      "image/png": "[encoded data removed]",
      "text/plain": [
       "<matplotlib.figure.Figure at 0x12570b650>"
      ]
     },
     "metadata": {},
     "output_type": "display_data"
    }
   ],
   "source": [
    "# Visualization using PCA for the generated data used with Unsupervised topic modeling\n",
    "pca = PCA(n_components =2)\n",
    "pca.fit(Xtr_s)\n",
    "X_pca= pca.transform(Xte_s)\n",
    "\n",
    "plt.scatter(X_pca[:, 0], X_pca[:, 1], c=raop_test_labels, cmap='RdYlBu')\n",
    "plt.colorbar()\n",
    "plt.axis('equal');"
   ]
  },
  {
   "cell_type": "markdown",
   "metadata": {},
   "source": [
    "### Report"
   ]
  },
  {
   "cell_type": "code",
   "execution_count": 60,
   "metadata": {
    "collapsed": false
   },
   "outputs": [
    {
     "name": "stdout",
     "output_type": "stream",
     "text": [
      "Machine Learning Classifier Report\n",
      "------------------------------------------------\n",
      "AdaBoostClassifier accuracy:          85.530%\n",
      "GradientBoostingClassifier accuracy:  85.469%\n",
      "BaggingClassifier accuracy:           85.285%\n",
      "--  n_estimators = 1000, max_samples = 150\n",
      "RandomForestClassifier accuracy:      85.101%\n",
      "--  n_estimators = 1000, max_leaf_nodes = 32, criterion = gini\n",
      "LogisticRegression accuracy:          84.488%\n",
      "SVC accuracy:                         84.120%\n",
      "ExtraTreesClassifier accuracy:        82.833%\n",
      "--  n_estimators = 1000, max_leaf_nodes = 40, criterion = \"gini\"\n",
      "KNeighborsClassifier accuracy:        81.116%\n",
      "--  n_neighbors = 2\n",
      "LogisticRegression accuracy:          72.103%\n",
      "--  Robust Scaling\n",
      "\n",
      "\n",
      "Ensembling With Pre-Fitted Classifiers\n",
      "---------------------------------------------\n",
      "x_train_blend: (4040, 9)\n",
      "x_test_blend: (1631, 9)\n",
      "\n",
      "0 AdaBoostClassifier\n",
      "1 GradientBoostingClassifier\n",
      "2 BaggingClassifier\n",
      "3 RandomForestClassifier\n",
      "4 LogisticRegression\n",
      "5 SVC\n",
      "6 ExtraTreesClassifier\n",
      "7 KNeighborsClassifier\n",
      "8 LogisticRegression\n",
      "\n",
      "x_train_blend: (4040, 40)\n",
      "x_test_blend: (1631, 40)\n",
      "\n",
      "Ensemble Report\n",
      "------------------------------------------------\n",
      "Accuracy: 84.242796%\n",
      "\n",
      "\n",
      "Ensembling With Non-Fitted Classifiers\n",
      "---------------------------------------------\n",
      "x_train_blend: (4040, 5)\n",
      "x_test_blend: (1631, 5)\n",
      "\n",
      "0 RandomForestClassifier\n",
      "1 RandomForestClassifier\n",
      "2 ExtraTreesClassifier\n",
      "3 ExtraTreesClassifier\n",
      "4 GradientBoostingClassifier\n",
      "(1631, 31) (1631, 5)\n",
      "\n",
      "x_train_blend: (4040, 36)\n",
      "x_test_blend: (1631, 36)\n",
      "\n",
      "Ensemble Report\n",
      "------------------------------------------------\n",
      "Accuracy: 86.020846%\n"
     ]
    }
   ],
   "source": [
    "classifierReport('Machine Learning Classifier Report')\n",
    "ensembling_1(Xtr_s, raop_train_labels, Xte_s, raop_test_labels, 'Ensemble Report')\n",
    "ensembling_2(Xtr_s, raop_train_labels, Xte_s, raop_test_labels, 'Ensemble Report')"
   ]
  },
  {
   "cell_type": "code",
   "execution_count": 61,
   "metadata": {
    "collapsed": false
   },
   "outputs": [],
   "source": [
    "classifierInfo_list = []"
   ]
  },
  {
   "cell_type": "markdown",
   "metadata": {},
   "source": [
    "# Machine Learning with Stanford Narratives"
   ]
  },
  {
   "cell_type": "code",
   "execution_count": 62,
   "metadata": {
    "collapsed": false
   },
   "outputs": [
    {
     "name": "stdout",
     "output_type": "stream",
     "text": [
      "train data shape (4040, 36)\n",
      "test data shape (1631, 36)\n"
     ]
    }
   ],
   "source": [
    "np.random.seed(0)\n",
    "def randomizeDataArrays(RAOP_updated_stanford):\n",
    "    # create randomized arrays for test, dev and train\n",
    "    X_sd = RAOP_updated_stanford.values\n",
    "    global raop_test_sd, raop_train_sd\n",
    "    global raop_test_labels_sd,raop_train_labels_sd\n",
    "    global Xtr_s_sd, Xte_s_sd, Xtr_r_sd, Xte_r_sd\n",
    "    \n",
    "    raop_test_sd = X_sd[4040:]\n",
    "    raop_train_sd = X_sd[:4040]\n",
    "    \n",
    "    raop_test_labels_sd = raop_test_sd[:,18]\n",
    "    raop_train_labels_sd = raop_train_sd[:,18]\n",
    "\n",
    "    raop_test_sd = np.delete(raop_test_sd , [18], axis=1)\n",
    "    raop_train_sd = np.delete(raop_train_sd, [18], axis=1)\n",
    "    \n",
    "    # Scale data\n",
    "    #Standard Scaler\n",
    "    standard_scaler = preprocessing.StandardScaler()\n",
    "    Xtr_s_sd = standard_scaler.fit_transform(raop_train_sd)\n",
    "    Xte_s_sd = standard_scaler.transform(raop_test_sd)\n",
    "\n",
    "    #Robust Scaler\n",
    "    robust_scaler = preprocessing.RobustScaler()\n",
    "    Xtr_r_sd = robust_scaler.fit_transform(raop_train_sd)\n",
    "    Xte_r_sd = robust_scaler.transform(raop_test_sd)\n",
    "    \n",
    "# split out test and train from the dataframe\n",
    "randomizeDataArrays(RAOP_updated_stanford)    \n",
    "print \"train data shape\", raop_train_sd.shape\n",
    "print \"test data shape\", raop_test_sd.shape"
   ]
  },
  {
   "cell_type": "code",
   "execution_count": 63,
   "metadata": {
    "collapsed": false,
    "scrolled": true
   },
   "outputs": [
    {
     "name": "stdout",
     "output_type": "stream",
     "text": [
      "                            OLS Regression Results                            \n",
      "==============================================================================\n",
      "Dep. Variable:                      y   R-squared:                       0.399\n",
      "Model:                            OLS   Adj. R-squared:                  0.394\n",
      "Method:                 Least Squares   F-statistic:                     73.90\n",
      "Date:                Sun, 11 Dec 2016   Prob (F-statistic):               0.00\n",
      "Time:                        16:25:55   Log-Likelihood:                -1300.1\n",
      "No. Observations:                4040   AIC:                             2674.\n",
      "Df Residuals:                    4003   BIC:                             2908.\n",
      "Df Model:                          36                                         \n",
      "Covariance Type:            nonrobust                                         \n",
      "==============================================================================\n",
      "                 coef    std err          t      P>|t|      [95.0% Conf. Int.]\n",
      "------------------------------------------------------------------------------\n",
      "const          0.2460      0.005     46.631      0.000         0.236     0.256\n",
      "x1             0.1203      0.007     18.400      0.000         0.108     0.133\n",
      "x2            -0.0214      0.007     -2.898      0.004        -0.036    -0.007\n",
      "x3            -0.0101      0.008     -1.287      0.198        -0.025     0.005\n",
      "x4             0.0132      0.006      2.396      0.017         0.002     0.024\n",
      "x5             0.0891      0.007     13.494      0.000         0.076     0.102\n",
      "x6            -0.4104      0.160     -2.570      0.010        -0.723    -0.097\n",
      "x7             0.4661      0.175      2.661      0.008         0.123     0.810\n",
      "x8             0.1186      0.037      3.163      0.002         0.045     0.192\n",
      "x9            -0.3386      0.140     -2.415      0.016        -0.614    -0.064\n",
      "x10           -0.0048      0.011     -0.456      0.649        -0.026     0.016\n",
      "x11            0.0126      0.010      1.266      0.206        -0.007     0.032\n",
      "x12            0.0058      0.008      0.708      0.479        -0.010     0.022\n",
      "x13            0.0295      0.008      3.741      0.000         0.014     0.045\n",
      "x14            0.0075      0.014      0.526      0.599        -0.020     0.035\n",
      "x15           -0.0352      0.015     -2.369      0.018        -0.064    -0.006\n",
      "x16           -0.0441      0.008     -5.551      0.000        -0.060    -0.028\n",
      "x17            0.1456      0.008     17.174      0.000         0.129     0.162\n",
      "x18            0.0136      0.010      1.344      0.179        -0.006     0.034\n",
      "x19           -0.0320      0.027     -1.179      0.238        -0.085     0.021\n",
      "x20            0.0494      0.023      2.120      0.034         0.004     0.095\n",
      "x21            0.0152      0.031      0.488      0.625        -0.046     0.076\n",
      "x22           -0.0148      0.029     -0.506      0.613        -0.072     0.042\n",
      "x23           -0.0229      0.012     -1.990      0.047        -0.045    -0.000\n",
      "x24            0.0191      0.006      3.281      0.001         0.008     0.031\n",
      "x25           -0.0053      0.006     -0.915      0.360        -0.017     0.006\n",
      "x26           -0.0045      0.005     -0.842      0.400        -0.015     0.006\n",
      "x27            0.0033      0.016      0.205      0.838        -0.028     0.035\n",
      "x28           -0.0376      0.013     -2.871      0.004        -0.063    -0.012\n",
      "x29            0.0171      0.017      1.007      0.314        -0.016     0.051\n",
      "x30            0.0112      0.017      0.643      0.520        -0.023     0.045\n",
      "x31            0.0492      0.016      3.050      0.002         0.018     0.081\n",
      "x32           -0.0152      0.006     -2.702      0.007        -0.026    -0.004\n",
      "x33            0.0012      0.007      0.178      0.858        -0.012     0.014\n",
      "x34           -0.0005      0.006     -0.078      0.938        -0.013     0.012\n",
      "x35            0.0141      0.011      1.301      0.193        -0.007     0.035\n",
      "x36           -0.0038      0.006     -0.635      0.525        -0.015     0.008\n",
      "==============================================================================\n",
      "Omnibus:                      799.534   Durbin-Watson:                   0.818\n",
      "Prob(Omnibus):                  0.000   Jarque-Bera (JB):             1384.095\n",
      "Skew:                           1.289   Prob(JB):                    2.80e-301\n",
      "Kurtosis:                       4.256   Cond. No.                         135.\n",
      "==============================================================================\n",
      "\n",
      "Warnings:\n",
      "[1] Standard Errors assume that the covariance matrix of the errors is correctly specified.\n",
      "[  0.00000000e+00   1.19371728e-72   3.77571739e-03   1.98286466e-01\n",
      "   1.66253129e-02   1.28638622e-40   1.02030133e-02   7.83104003e-03\n",
      "   1.57582191e-03   1.58007432e-02   6.48769494e-01   2.05611486e-01\n",
      "   4.79111336e-01   1.85786192e-04   5.98604207e-01   1.78753516e-02\n",
      "   3.02823981e-08   7.66662684e-64   1.79020222e-01   2.38370702e-01\n",
      "   3.40718076e-02   6.25431974e-01   6.13139622e-01   4.67060709e-02\n",
      "   1.04164450e-03   3.60413311e-01   3.99583278e-01   8.37813102e-01\n",
      "   4.11557946e-03   3.13982054e-01   5.20076312e-01   2.30266639e-03\n",
      "   6.92487125e-03   8.58352318e-01   9.37522629e-01   1.93460243e-01\n",
      "   5.25308874e-01]\n"
     ]
    }
   ],
   "source": [
    "#Logistic Regression using Stat Models\n",
    "# p-values are in column P>|t|\n",
    "Xtr_s_sd_lr = sm.add_constant(Xtr_s_sd)\n",
    "mod = sm.OLS(raop_train_labels_sd, Xtr_s_sd_lr )\n",
    "res = mod.fit()\n",
    "print(res.summary())\n",
    "print(res.pvalues)"
   ]
  },
  {
   "cell_type": "code",
   "execution_count": 64,
   "metadata": {
    "collapsed": false
   },
   "outputs": [
    {
     "name": "stdout",
     "output_type": "stream",
     "text": [
      "Training set score: 85.371%\n",
      "Test set score: 84.672%\n",
      "\n",
      "Logistic Regression coefficients: [[ 2.52965011 -0.23407927  0.04221826  0.11855828  0.54267246 -2.52921505\n",
      "   2.92016892  0.73710091 -1.98509719 -0.0257831   0.07859331 -0.09447684\n",
      "   0.45547957 -0.00590815 -0.28847625 -0.30094331  1.07178008  0.14000808\n",
      "  -0.23247465  0.41917937 -0.01968204 -0.01861847 -0.2194415   0.14813587\n",
      "  -0.06544296 -0.04269695  0.01504741 -0.32157442  0.18299408  0.06809045\n",
      "   0.41925015 -0.12042899  0.02504206  0.01969308  0.1125674  -0.03983799]]\n",
      "\n",
      "Elapsed time (Logistic Regression, Stanford Narratives): 0:00.096\n",
      "Total elapsed time: 38:16.332\n"
     ]
    }
   ],
   "source": [
    "# Logistic Regression using sklearn\n",
    "raop_train_labels_sd = np.array(raop_train_labels_sd, dtype=int)\n",
    "raop_test_labels_sd = np.array(raop_test_labels_sd, dtype=int)\n",
    "\n",
    "logisticRegression(Xtr_s_sd, raop_train_labels_sd, Xte_s_sd, raop_test_labels_sd, 'Logistic Regression, Stanford Narratives', '')"
   ]
  },
  {
   "cell_type": "code",
   "execution_count": 65,
   "metadata": {
    "collapsed": false
   },
   "outputs": [
    {
     "name": "stdout",
     "output_type": "stream",
     "text": [
      "Training set score: 74.926%\n",
      "Test set score: 74.617%\n",
      "\n",
      "Logistic Regression coefficients: [[  3.49160624e-18  -2.86467815e-18  -7.32584252e-19  -5.49753603e-10\n",
      "    3.31434598e-18  -4.32090399e-18   3.95426958e-18  -8.64443194e-17\n",
      "    3.03792830e-18  -1.29389270e-17  -5.35301768e-18   3.64914008e-18\n",
      "    1.18722020e-17  -1.53235903e-17  -1.11752396e-17   3.60428352e-19\n",
      "    5.90877971e-18  -4.84357987e-18  -1.51051066e-17  -8.09752698e-18\n",
      "   -2.16818525e-17  -1.12526982e-17  -1.34132981e-18  -2.39447706e-19\n",
      "   -5.23909610e-18   1.03758920e-17   3.14592259e-18   2.14184384e-18\n",
      "    1.51584516e-18   1.93031388e-18   3.17434896e-18  -1.10407915e-17\n",
      "   -1.01967350e-17  -1.06768758e-17   2.64567371e-18  -1.14265545e-17]]\n",
      "\n",
      "Elapsed time (Logistic Regression, Stanford Narratives, Robust Scaling): 0:00.009\n",
      "Total elapsed time: 38:16.347\n"
     ]
    }
   ],
   "source": [
    "# Logistic Regression with Robust Scaling\n",
    "logisticRegression(Xtr_r_sd, raop_train_labels_sd, Xte_r_sd, raop_test_labels_sd, 'Logistic Regression, Stanford Narratives, Robust Scaling', 'Robust Scaling')"
   ]
  },
  {
   "cell_type": "code",
   "execution_count": 66,
   "metadata": {
    "collapsed": false
   },
   "outputs": [
    {
     "name": "stdout",
     "output_type": "stream",
     "text": [
      "Accuracy: 84.97854%\n",
      "\n",
      "Elapsed time (RandomForestClassifier, Stanford): 7:54.286\n",
      "Total elapsed time: 46:10.644\n"
     ]
    }
   ],
   "source": [
    "# Random Forest Classifier\n",
    "y_pred_rf = randomForestClassifier(Xtr_s_sd, raop_train_labels, Xte_s_sd, raop_test_labels, 'RandomForestClassifier, Stanford')"
   ]
  },
  {
   "cell_type": "code",
   "execution_count": 67,
   "metadata": {
    "collapsed": false
   },
   "outputs": [
    {
     "name": "stderr",
     "output_type": "stream",
     "text": [
      "/Users/Home/anaconda/envs/py27/lib/python2.7/site-packages/sklearn/externals/joblib/hashing.py:197: DeprecationWarning: Changing the shape of non-C contiguous array by\n",
      "descriptor assignment is deprecated. To maintain\n",
      "the Fortran contiguity of a multidimensional Fortran\n",
      "array, use 'a.T.view(...).T' instead\n",
      "  obj_bytes_view = obj.view(self.np.uint8)\n",
      "/Users/Home/anaconda/envs/py27/lib/python2.7/site-packages/sklearn/externals/joblib/hashing.py:197: DeprecationWarning: Changing the shape of non-C contiguous array by\n",
      "descriptor assignment is deprecated. To maintain\n",
      "the Fortran contiguity of a multidimensional Fortran\n",
      "array, use 'a.T.view(...).T' instead\n",
      "  obj_bytes_view = obj.view(self.np.uint8)\n",
      "/Users/Home/anaconda/envs/py27/lib/python2.7/site-packages/sklearn/externals/joblib/hashing.py:197: DeprecationWarning: Changing the shape of non-C contiguous array by\n",
      "descriptor assignment is deprecated. To maintain\n",
      "the Fortran contiguity of a multidimensional Fortran\n",
      "array, use 'a.T.view(...).T' instead\n",
      "  obj_bytes_view = obj.view(self.np.uint8)\n",
      "/Users/Home/anaconda/envs/py27/lib/python2.7/site-packages/sklearn/externals/joblib/hashing.py:197: DeprecationWarning: Changing the shape of non-C contiguous array by\n",
      "descriptor assignment is deprecated. To maintain\n",
      "the Fortran contiguity of a multidimensional Fortran\n",
      "array, use 'a.T.view(...).T' instead\n",
      "  obj_bytes_view = obj.view(self.np.uint8)\n",
      "/Users/Home/anaconda/envs/py27/lib/python2.7/site-packages/sklearn/externals/joblib/hashing.py:197: DeprecationWarning: Changing the shape of non-C contiguous array by\n",
      "descriptor assignment is deprecated. To maintain\n",
      "the Fortran contiguity of a multidimensional Fortran\n",
      "array, use 'a.T.view(...).T' instead\n",
      "  obj_bytes_view = obj.view(self.np.uint8)\n",
      "/Users/Home/anaconda/envs/py27/lib/python2.7/site-packages/sklearn/externals/joblib/hashing.py:197: DeprecationWarning: Changing the shape of non-C contiguous array by\n",
      "descriptor assignment is deprecated. To maintain\n",
      "the Fortran contiguity of a multidimensional Fortran\n",
      "array, use 'a.T.view(...).T' instead\n",
      "  obj_bytes_view = obj.view(self.np.uint8)\n",
      "/Users/Home/anaconda/envs/py27/lib/python2.7/site-packages/sklearn/externals/joblib/hashing.py:197: DeprecationWarning: Changing the shape of non-C contiguous array by\n",
      "descriptor assignment is deprecated. To maintain\n",
      "the Fortran contiguity of a multidimensional Fortran\n",
      "array, use 'a.T.view(...).T' instead\n",
      "  obj_bytes_view = obj.view(self.np.uint8)\n",
      "/Users/Home/anaconda/envs/py27/lib/python2.7/site-packages/sklearn/externals/joblib/hashing.py:197: DeprecationWarning: Changing the shape of non-C contiguous array by\n",
      "descriptor assignment is deprecated. To maintain\n",
      "the Fortran contiguity of a multidimensional Fortran\n",
      "array, use 'a.T.view(...).T' instead\n",
      "  obj_bytes_view = obj.view(self.np.uint8)\n",
      "/Users/Home/anaconda/envs/py27/lib/python2.7/site-packages/sklearn/externals/joblib/hashing.py:197: DeprecationWarning: Changing the shape of non-C contiguous array by\n",
      "descriptor assignment is deprecated. To maintain\n",
      "the Fortran contiguity of a multidimensional Fortran\n",
      "array, use 'a.T.view(...).T' instead\n",
      "  obj_bytes_view = obj.view(self.np.uint8)\n",
      "/Users/Home/anaconda/envs/py27/lib/python2.7/site-packages/sklearn/externals/joblib/hashing.py:197: DeprecationWarning: Changing the shape of non-C contiguous array by\n",
      "descriptor assignment is deprecated. To maintain\n",
      "the Fortran contiguity of a multidimensional Fortran\n",
      "array, use 'a.T.view(...).T' instead\n",
      "  obj_bytes_view = obj.view(self.np.uint8)\n",
      "/Users/Home/anaconda/envs/py27/lib/python2.7/site-packages/sklearn/externals/joblib/hashing.py:197: DeprecationWarning: Changing the shape of non-C contiguous array by\n",
      "descriptor assignment is deprecated. To maintain\n",
      "the Fortran contiguity of a multidimensional Fortran\n",
      "array, use 'a.T.view(...).T' instead\n",
      "  obj_bytes_view = obj.view(self.np.uint8)\n",
      "/Users/Home/anaconda/envs/py27/lib/python2.7/site-packages/sklearn/externals/joblib/hashing.py:197: DeprecationWarning: Changing the shape of non-C contiguous array by\n",
      "descriptor assignment is deprecated. To maintain\n",
      "the Fortran contiguity of a multidimensional Fortran\n",
      "array, use 'a.T.view(...).T' instead\n",
      "  obj_bytes_view = obj.view(self.np.uint8)\n",
      "/Users/Home/anaconda/envs/py27/lib/python2.7/site-packages/sklearn/externals/joblib/hashing.py:197: DeprecationWarning: Changing the shape of non-C contiguous array by\n",
      "descriptor assignment is deprecated. To maintain\n",
      "the Fortran contiguity of a multidimensional Fortran\n",
      "array, use 'a.T.view(...).T' instead\n",
      "  obj_bytes_view = obj.view(self.np.uint8)\n",
      "/Users/Home/anaconda/envs/py27/lib/python2.7/site-packages/sklearn/externals/joblib/hashing.py:197: DeprecationWarning: Changing the shape of non-C contiguous array by\n",
      "descriptor assignment is deprecated. To maintain\n",
      "the Fortran contiguity of a multidimensional Fortran\n",
      "array, use 'a.T.view(...).T' instead\n",
      "  obj_bytes_view = obj.view(self.np.uint8)\n",
      "/Users/Home/anaconda/envs/py27/lib/python2.7/site-packages/sklearn/externals/joblib/hashing.py:197: DeprecationWarning: Changing the shape of non-C contiguous array by\n",
      "descriptor assignment is deprecated. To maintain\n",
      "the Fortran contiguity of a multidimensional Fortran\n",
      "array, use 'a.T.view(...).T' instead\n",
      "  obj_bytes_view = obj.view(self.np.uint8)\n",
      "/Users/Home/anaconda/envs/py27/lib/python2.7/site-packages/sklearn/externals/joblib/hashing.py:197: DeprecationWarning: Changing the shape of non-C contiguous array by\n",
      "descriptor assignment is deprecated. To maintain\n",
      "the Fortran contiguity of a multidimensional Fortran\n",
      "array, use 'a.T.view(...).T' instead\n",
      "  obj_bytes_view = obj.view(self.np.uint8)\n"
     ]
    },
    {
     "name": "stdout",
     "output_type": "stream",
     "text": [
      "Accuracy: 85.34641%\n",
      "\n",
      "Elapsed time (BaggingClassifier, Stanford): 1:07.866\n",
      "Total elapsed time: 47:18.633\n"
     ]
    }
   ],
   "source": [
    "# Bagging Classifier\n",
    "baggingClassifier(Xtr_s_sd, raop_train_labels, Xte_s_sd, raop_test_labels, 'BaggingClassifier, Stanford')"
   ]
  },
  {
   "cell_type": "code",
   "execution_count": 68,
   "metadata": {
    "collapsed": false
   },
   "outputs": [
    {
     "name": "stdout",
     "output_type": "stream",
     "text": [
      "Accuracy: 83.01655%\n",
      "\n",
      "Elapsed time (RandomForestClassifier, Stanford): 6:48.404\n",
      "Total elapsed time: 54:07.060\n"
     ]
    }
   ],
   "source": [
    "# Extra Trees Classifier\n",
    "extraTreesClassifier(Xtr_s_sd, raop_train_labels, Xte_s_sd, raop_test_labels, 'RandomForestClassifier, Stanford')"
   ]
  },
  {
   "cell_type": "code",
   "execution_count": 69,
   "metadata": {
    "collapsed": false
   },
   "outputs": [
    {
     "name": "stdout",
     "output_type": "stream",
     "text": [
      "LogisticRegression, 84.611%\n",
      "RandomForestClassifier, 84.365%\n",
      "SVC, 84.181%\n",
      "VotingClassifier, 84.611%\n",
      "\n",
      "Elapsed time (VotingClassifier): 0:02.484\n",
      "Total elapsed time: 54:09.584\n"
     ]
    }
   ],
   "source": [
    "# Voting Classifier with LogisticRegression, RandomForestClassifier and SVM\n",
    "votingClassifier(Xtr_s_sd, raop_train_labels, Xte_s_sd, raop_test_labels, 'VotingClassifier, Stanford')"
   ]
  },
  {
   "cell_type": "code",
   "execution_count": 70,
   "metadata": {
    "collapsed": false
   },
   "outputs": [
    {
     "name": "stdout",
     "output_type": "stream",
     "text": [
      "Accuracy: 85.59166%\n",
      "\n",
      "Elapsed time (AdaBoostClassifier): 0:04.382\n",
      "Total elapsed time: 54:13.973\n"
     ]
    }
   ],
   "source": [
    "# Ada Boost Classifier\n",
    "adaBoostClassifier(Xtr_s_sd, raop_train_labels, Xte_s_sd, raop_test_labels, 'AdaBoostClassifier, Stanford')"
   ]
  },
  {
   "cell_type": "code",
   "execution_count": 71,
   "metadata": {
    "collapsed": false
   },
   "outputs": [
    {
     "name": "stdout",
     "output_type": "stream",
     "text": [
      "Accuracy: 86.08216%\n",
      "\n",
      "Elapsed time (GradientBoostingClassifier): 0:00.858\n",
      "Total elapsed time: 54:14.849\n"
     ]
    }
   ],
   "source": [
    "# GradientBoostingClassifier\n",
    "gradientBoostingClassifier(Xtr_s_sd, raop_train_labels, Xte_s_sd, raop_test_labels, 'GradientBoostingClassifier')"
   ]
  },
  {
   "cell_type": "code",
   "execution_count": 72,
   "metadata": {
    "collapsed": false
   },
   "outputs": [
    {
     "name": "stdout",
     "output_type": "stream",
     "text": [
      "Accuracy: 84.18148%\n",
      "\n",
      "Elapsed time (SVC Classifier): 0:02.689\n",
      "Total elapsed time: 54:17.544\n"
     ]
    }
   ],
   "source": [
    "# SVC Classifier\n",
    "svcClassifier(Xtr_s_sd, raop_train_labels, Xte_s_sd, raop_test_labels, 'SVC Classifier')"
   ]
  },
  {
   "cell_type": "code",
   "execution_count": 73,
   "metadata": {
    "collapsed": false
   },
   "outputs": [
    {
     "name": "stdout",
     "output_type": "stream",
     "text": [
      "Accuracy: 81.79031%\n",
      "\n",
      "Elapsed time (KNeighborsClassifier): 0:02.805\n",
      "Total elapsed time: 54:20.368\n"
     ]
    }
   ],
   "source": [
    "# KNeighborsClassifier\n",
    "kNeighborsClassifier(Xtr_s_sd, raop_train_labels, Xte_s_sd, raop_test_labels, 'KNeighborsClassifier')"
   ]
  },
  {
   "cell_type": "markdown",
   "metadata": {
    "collapsed": false
   },
   "source": [
    "## ROC Curves"
   ]
  },
  {
   "cell_type": "code",
   "execution_count": 86,
   "metadata": {
    "collapsed": false
   },
   "outputs": [
    {
     "data": {
      "image/png": "[encoded data removed]",
      "text/plain": [
       "<matplotlib.figure.Figure at 0x132d93110>"
      ]
     },
     "metadata": {},
     "output_type": "display_data"
    }
   ],
   "source": [
    "ada_clf = AdaBoostClassifier(\n",
    "DecisionTreeClassifier(max_depth=1), n_estimators=500,\n",
    "algorithm=\"SAMME.R\", learning_rate=0.05\n",
    ")\n",
    "ada_clf.fit(Xtr_r_sd, raop_train_labels)\n",
    "\n",
    "y_scores_sd = ada_clf.decision_function(Xte_s_sd)\n",
    "fpr_sd, tpr_sd, thresholds = roc_curve(raop_test_labels, y_scores_sd)\n",
    "plt.plot(fpr_sd, tpr_sd, linewidth=2)\n",
    "plt.plot([0,1], [0,1], 'k--')\n",
    "plt.axis([0,1,0,1])\n",
    "plt.xlabel('False Positive Rate')\n",
    "plt.ylabel('True Positive Rate')\n",
    "plt.figtext(.5, .92, 'roc_auc_score: %f'% roc_auc_score(raop_test_labels, y_scores_sd), fontsize=18, ha='center')\n",
    "plt.show();"
   ]
  },
  {
   "cell_type": "markdown",
   "metadata": {},
   "source": [
    "# Visualization"
   ]
  },
  {
   "cell_type": "code",
   "execution_count": 75,
   "metadata": {
    "collapsed": false,
    "scrolled": true
   },
   "outputs": [
    {
     "data": {
      "image/png": "[encoded data removed]",
      "text/plain": [
       "<matplotlib.figure.Figure at 0x11eb34a50>"
      ]
     },
     "metadata": {},
     "output_type": "display_data"
    }
   ],
   "source": [
    "# Visualization using PCA for the generated data used \n",
    "pca = PCA(n_components =2)\n",
    "pca.fit(Xtr_s_sd)\n",
    "X_pca= pca.transform(Xte_s_sd)\n",
    "\n",
    "plt.scatter(X_pca[:, 0], X_pca[:, 1], c=raop_test_labels, cmap='RdYlBu')\n",
    "plt.colorbar()\n",
    "plt.axis('equal');"
   ]
  },
  {
   "cell_type": "markdown",
   "metadata": {},
   "source": [
    "## Classification Reports"
   ]
  },
  {
   "cell_type": "code",
   "execution_count": 76,
   "metadata": {
    "collapsed": false
   },
   "outputs": [
    {
     "name": "stdout",
     "output_type": "stream",
     "text": [
      "Machine Learning Classifier Report, Stanford\n",
      "------------------------------------------------\n",
      "GradientBoostingClassifier accuracy:  86.082%\n",
      "AdaBoostClassifier accuracy:          85.592%\n",
      "BaggingClassifier accuracy:           85.346%\n",
      "--  n_estimators = 500, max_samples = 250\n",
      "RandomForestClassifier accuracy:      84.979%\n",
      "--  n_estimators = 2000, max_leaf_nodes = 40, criterion = gini\n",
      "LogisticRegression accuracy:          84.672%\n",
      "SVC accuracy:                         84.181%\n",
      "ExtraTreesClassifier accuracy:        83.017%\n",
      "--  n_estimators = 2000, max_leaf_nodes = 40, criterion = \"gini\"\n",
      "KNeighborsClassifier accuracy:        81.790%\n",
      "--  n_neighbors = 2\n",
      "LogisticRegression accuracy:          74.617%\n",
      "--  Robust Scaling\n",
      "\n",
      "\n",
      "Ensembling With Pre-Fitted Classifiers\n",
      "---------------------------------------------\n",
      "x_train_blend: (4040, 9)\n",
      "x_test_blend: (1631, 9)\n",
      "\n",
      "0 GradientBoostingClassifier\n",
      "1 AdaBoostClassifier\n"
     ]
    },
    {
     "name": "stderr",
     "output_type": "stream",
     "text": [
      "/Users/Home/anaconda/envs/py27/lib/python2.7/site-packages/sklearn/externals/joblib/hashing.py:197: DeprecationWarning: Changing the shape of non-C contiguous array by\n",
      "descriptor assignment is deprecated. To maintain\n",
      "the Fortran contiguity of a multidimensional Fortran\n",
      "array, use 'a.T.view(...).T' instead\n",
      "  obj_bytes_view = obj.view(self.np.uint8)\n",
      "/Users/Home/anaconda/envs/py27/lib/python2.7/site-packages/sklearn/externals/joblib/hashing.py:197: DeprecationWarning: Changing the shape of non-C contiguous array by\n",
      "descriptor assignment is deprecated. To maintain\n",
      "the Fortran contiguity of a multidimensional Fortran\n",
      "array, use 'a.T.view(...).T' instead\n",
      "  obj_bytes_view = obj.view(self.np.uint8)\n",
      "/Users/Home/anaconda/envs/py27/lib/python2.7/site-packages/sklearn/externals/joblib/hashing.py:197: DeprecationWarning: Changing the shape of non-C contiguous array by\n",
      "descriptor assignment is deprecated. To maintain\n",
      "the Fortran contiguity of a multidimensional Fortran\n",
      "array, use 'a.T.view(...).T' instead\n",
      "  obj_bytes_view = obj.view(self.np.uint8)\n",
      "/Users/Home/anaconda/envs/py27/lib/python2.7/site-packages/sklearn/externals/joblib/hashing.py:197: DeprecationWarning: Changing the shape of non-C contiguous array by\n",
      "descriptor assignment is deprecated. To maintain\n",
      "the Fortran contiguity of a multidimensional Fortran\n",
      "array, use 'a.T.view(...).T' instead\n",
      "  obj_bytes_view = obj.view(self.np.uint8)\n",
      "/Users/Home/anaconda/envs/py27/lib/python2.7/site-packages/sklearn/externals/joblib/hashing.py:197: DeprecationWarning: Changing the shape of non-C contiguous array by\n",
      "descriptor assignment is deprecated. To maintain\n",
      "the Fortran contiguity of a multidimensional Fortran\n",
      "array, use 'a.T.view(...).T' instead\n",
      "  obj_bytes_view = obj.view(self.np.uint8)\n",
      "/Users/Home/anaconda/envs/py27/lib/python2.7/site-packages/sklearn/externals/joblib/hashing.py:197: DeprecationWarning: Changing the shape of non-C contiguous array by\n",
      "descriptor assignment is deprecated. To maintain\n",
      "the Fortran contiguity of a multidimensional Fortran\n",
      "array, use 'a.T.view(...).T' instead\n",
      "  obj_bytes_view = obj.view(self.np.uint8)\n",
      "/Users/Home/anaconda/envs/py27/lib/python2.7/site-packages/sklearn/externals/joblib/hashing.py:197: DeprecationWarning: Changing the shape of non-C contiguous array by\n",
      "descriptor assignment is deprecated. To maintain\n",
      "the Fortran contiguity of a multidimensional Fortran\n",
      "array, use 'a.T.view(...).T' instead\n",
      "  obj_bytes_view = obj.view(self.np.uint8)\n",
      "/Users/Home/anaconda/envs/py27/lib/python2.7/site-packages/sklearn/externals/joblib/hashing.py:197: DeprecationWarning: Changing the shape of non-C contiguous array by\n",
      "descriptor assignment is deprecated. To maintain\n",
      "the Fortran contiguity of a multidimensional Fortran\n",
      "array, use 'a.T.view(...).T' instead\n",
      "  obj_bytes_view = obj.view(self.np.uint8)\n"
     ]
    },
    {
     "name": "stdout",
     "output_type": "stream",
     "text": [
      "2 BaggingClassifier\n",
      "3 RandomForestClassifier\n",
      "4 LogisticRegression\n",
      "5 SVC\n",
      "6 ExtraTreesClassifier\n",
      "7 KNeighborsClassifier\n",
      "8 LogisticRegression\n",
      "\n",
      "x_train_blend: (4040, 45)\n",
      "x_test_blend: (1631, 45)\n",
      "\n",
      "Ensemble Report, Stanford\n",
      "------------------------------------------------\n",
      "Accuracy: 84.304108%\n",
      "\n",
      "\n",
      "Ensembling With Non-Fitted Classifiers\n",
      "---------------------------------------------\n",
      "x_train_blend: (4040, 5)\n",
      "x_test_blend: (1631, 5)\n",
      "\n",
      "0 RandomForestClassifier\n",
      "1 RandomForestClassifier\n",
      "2 ExtraTreesClassifier\n",
      "3 ExtraTreesClassifier\n",
      "4 GradientBoostingClassifier\n",
      "(1631, 36) (1631, 5)\n",
      "\n",
      "x_train_blend: (4040, 41)\n",
      "x_test_blend: (1631, 41)\n",
      "\n",
      "Ensemble Report, Stanford\n",
      "------------------------------------------------\n",
      "Accuracy: 85.591662%\n"
     ]
    }
   ],
   "source": [
    "classifierReport('Machine Learning Classifier Report, Stanford')\n",
    "ensembling_1(Xtr_s_sd, raop_train_labels, Xte_s_sd, raop_test_labels, 'Ensemble Report, Stanford')\n",
    "ensembling_2(Xtr_s_sd, raop_train_labels, Xte_s_sd, raop_test_labels, 'Ensemble Report, Stanford')"
   ]
  },
  {
   "cell_type": "markdown",
   "metadata": {
    "collapsed": true
   },
   "source": [
    "## CNN"
   ]
  },
  {
   "cell_type": "code",
   "execution_count": 77,
   "metadata": {
    "collapsed": false
   },
   "outputs": [
    {
     "name": "stderr",
     "output_type": "stream",
     "text": [
      "WARNING (theano.gof.compilelock): Overriding existing lock by dead process '13065' (I am process '18355')\n"
     ]
    },
    {
     "name": "stdout",
     "output_type": "stream",
     "text": [
      "1) accuracy = 52.6058%\n",
      "2) accuracy = 52.6058%\n",
      "3) accuracy = 52.6058%\n",
      "4) accuracy = 52.6058%\n",
      "5) accuracy = 52.6058%\n"
     ]
    }
   ],
   "source": [
    "# immature CNN attempt, limited to 5 epochs\n",
    "cnnProcess(Xtr_s, raop_train_labels, Xte_s, raop_test_labels)"
   ]
  },
  {
   "cell_type": "code",
   "execution_count": null,
   "metadata": {
    "collapsed": true
   },
   "outputs": [],
   "source": []
  }
 ],
 "metadata": {
  "anaconda-cloud": {},
  "kernelspec": {
   "display_name": "Python [conda env:py27]",
   "language": "python",
   "name": "conda-env-py27-py"
  },
  "language_info": {
   "codemirror_mode": {
    "name": "ipython",
    "version": 2
   },
   "file_extension": ".py",
   "mimetype": "text/x-python",
   "name": "python",
   "nbconvert_exporter": "python",
   "pygments_lexer": "ipython2",
   "version": "2.7.12"
  }
 },
 "nbformat": 4,
 "nbformat_minor": 0
}
